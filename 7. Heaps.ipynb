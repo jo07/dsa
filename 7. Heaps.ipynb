{
 "cells": [
  {
   "cell_type": "markdown",
   "metadata": {},
   "source": [
    "# HEAPS"
   ]
  },
  {
   "cell_type": "code",
   "execution_count": 1,
   "metadata": {},
   "outputs": [],
   "source": [
    "# Full disclosure : My ego has been hurt coz I couldn't complete the the delete node or pretty print BST in the last \n",
    "# chapter. May be I'll have more to learn before cracking that. Or maybe I'll need some fresh perspective. And due to\n",
    "# lack of time we are gonna move to the next challenge : Heaps. Let's get started"
   ]
  },
  {
   "cell_type": "markdown",
   "metadata": {},
   "source": [
    "> Heap is a tree data structure where each element is greater than both of it's children if its a max heap and less than the children for a min heap. It's balanced as in the depth of left node and right node are never greater than one. And the elements are inserted at the end of the array. Oh did I mention heaps are stored as arrays? That's cause every parent's have child at position 2k and 2k+1 if parent has the index 'k'. And to get the parent of a child you just divide by 2. So once an element is inserted you need to maintain the heap property by swapping the elements till we get a proper heap again. Since it's a binary tree and there are at max log(n) swaps needed it has a time complexity of.... you guessed it, log(n). This function is conincidently called the 'heapify' function in all the resources I checked."
   ]
  },
  {
   "cell_type": "code",
   "execution_count": 175,
   "metadata": {},
   "outputs": [],
   "source": [
    "# PS: The interestting property of finding any child node or any parent node is not just because it's a binary tree \n",
    "# That's also it's complete. Meaning all the nodes except for the last level of nodes aka leaf nodes will all be filled.\n",
    "# And even the last level nodes will be inserted at the left most empty node. Means every node will get a left child\n",
    "# then a right child. Thought that's something important to know."
   ]
  },
  {
   "cell_type": "code",
   "execution_count": 4,
   "metadata": {},
   "outputs": [],
   "source": [
    "# Let's define the basic methods we need for building a heap structure\n",
    "# heapify : You go top down and keep on swapping till the element adhere to the heap standards\n",
    "# insert : Insert an element to the heap. It keeps on swapping with the parent till the heap condition is met\n",
    "# pop : remove the last element from the heap\n",
    "# getmax : root element is going to be the max. so just return the val in the root node\n",
    "# extractmax : Oooh, that should be fun. Extract the max element(root node). I have no idea how to do that. Google to\n",
    "#              the rescue. :D. I did. Just put the last element on and call heapify\n",
    "# That should do it. I hope we had that pretty print BST function to see those heap. Dammit. Never mind"
   ]
  },
  {
   "cell_type": "code",
   "execution_count": 131,
   "metadata": {},
   "outputs": [],
   "source": [
    "# Wait there. If the array starts at 0 then the child node would be 2k+1, 2k+2 for left, right child respectively. But\n",
    "# the parent node would be (k-1)/2 where K is the position or index of the item in the array"
   ]
  },
  {
   "cell_type": "code",
   "execution_count": 128,
   "metadata": {},
   "outputs": [
    {
     "data": {
      "text/plain": [
       "-1"
      ]
     },
     "execution_count": 128,
     "metadata": {},
     "output_type": "execute_result"
    }
   ],
   "source": [
    "(0-1)//2 # calculating parent of root node"
   ]
  },
  {
   "cell_type": "code",
   "execution_count": 130,
   "metadata": {},
   "outputs": [
    {
     "data": {
      "text/plain": [
       "0"
      ]
     },
     "execution_count": 130,
     "metadata": {},
     "output_type": "execute_result"
    }
   ],
   "source": [
    "# '//' this is the integer division operator. It returns the whole number, the floor actually\n",
    "1//2  # Division should give 0.5 and the floor is 0. So integer division returns 0. Savvy?"
   ]
  },
  {
   "cell_type": "code",
   "execution_count": 163,
   "metadata": {},
   "outputs": [],
   "source": [
    "# Implementation - Heapify (Max heap)\n",
    "# Input - arr: a list\n",
    "#         i: index of the element to be heapified\n",
    "# Output - Heapified node at the index i\n",
    "\n",
    "def heapify(arr, i):\n",
    "    # assume i is the largest\n",
    "    largest = i\n",
    "    # find the length of the array, useful to check if child nodes exists or not\n",
    "    size = len(arr)\n",
    "    # find the position of left and right child. We will later check if they exist or not\n",
    "    left_child = 2*i + 1\n",
    "    right_child = 2*i +2\n",
    "    # if left child exist and index element is less than it's left child element\n",
    "    if left_child < size and arr[i] < arr[left_child]:\n",
    "        # give the largest tag to left child\n",
    "        largest = left_child\n",
    "    # Now we need to compare between the right child and whichever element is the largest  \n",
    "    # if right child exist and largest element is less than the right child element\n",
    "    if right_child < size and arr[largest] < arr[right_child]:\n",
    "        # we reset the largest\n",
    "        largest = right_child\n",
    "    # And if we indeed have reset the largest, we need to swap\n",
    "    if largest !=i:\n",
    "        # so we swap\n",
    "        arr[i], arr[largest] = arr[largest], arr[i]\n",
    "        # Now the element at i is at the largest, so we need to heapify that node and all it's subnode\n",
    "        arr = heapify(arr, largest)\n",
    "    return arr\n",
    "    # Now this function is useless unless we call it in the heapsort function passing in an unsorted array\n",
    "    # so let's create that function"
   ]
  },
  {
   "cell_type": "code",
   "execution_count": 84,
   "metadata": {},
   "outputs": [],
   "source": [
    "# Implementation - MaxHeap.\n",
    "# Input - arr: which will be used to build the max heap\n",
    "# Output - arr: Which follows maxheap convention\n",
    "def max_heap(arr):\n",
    "    # We need to go from the last parent node and move up till root node and call the heapify function we created before\n",
    "    # From length we can get the last node and it's parent node\n",
    "    size = len(arr)\n",
    "    for i in range((size//2)-1, -1, -1): # '-1' is the step function. We are going backwards\n",
    "        arr = heapify(arr, i)\n",
    "    return arr"
   ]
  },
  {
   "cell_type": "code",
   "execution_count": 147,
   "metadata": {},
   "outputs": [
    {
     "data": {
      "text/plain": [
       "[70, 40, 30, 20, 10, 25, 5, 15]"
      ]
     },
     "execution_count": 147,
     "metadata": {},
     "output_type": "execute_result"
    }
   ],
   "source": [
    "arr = [10, 20,25, 15, 40, 30, 5, 70]\n",
    "max_heap_arr = max_heap(arr)\n",
    "max_heap_arr"
   ]
  },
  {
   "cell_type": "code",
   "execution_count": 90,
   "metadata": {},
   "outputs": [],
   "source": [
    "# Note to self\n",
    "# There are going to be times in your coder life when you are debugging a sound algorithm for days and you lose all\n",
    "# the trust in yourself and the world of logic, just tell yourself to calm down and that '&' is a bitwise operator in \n",
    "# in python you duffer!!"
   ]
  },
  {
   "cell_type": "code",
   "execution_count": 91,
   "metadata": {},
   "outputs": [],
   "source": [
    "# Now let's try inserting an element\n",
    "# As we said before, insert the element at the last node and keep on swapping with the parent if the parent node\n",
    "# has a greater value"
   ]
  },
  {
   "cell_type": "code",
   "execution_count": 128,
   "metadata": {},
   "outputs": [],
   "source": [
    "# Implementation\n",
    "# Input : arr - heapified array\n",
    "#         el - element to be inserted\n",
    "def insert_max_heap(arr, el):\n",
    "    current = len(arr)\n",
    "    arr.append(el)\n",
    "    parent = (current-1)//2\n",
    "    while parent >= 0:\n",
    "        if arr[parent] < arr[current]:\n",
    "            arr[parent], arr[current] = arr[current], arr[parent]\n",
    "            current = parent\n",
    "            parent = (parent-1)//2\n",
    "        else:\n",
    "            break\n",
    "    return arr"
   ]
  },
  {
   "cell_type": "code",
   "execution_count": 130,
   "metadata": {},
   "outputs": [
    {
     "name": "stdout",
     "output_type": "stream",
     "text": [
      "p: 3, c: 8, parent:20, current:80\n",
      "p: 1, c: 3, parent:40, current:80\n",
      "p: 0, c: 1, parent:70, current:80\n"
     ]
    },
    {
     "data": {
      "text/plain": [
       "[80, 70, 30, 40, 10, 25, 5, 15, 20]"
      ]
     },
     "execution_count": 130,
     "metadata": {},
     "output_type": "execute_result"
    }
   ],
   "source": [
    "insert_max_heap(max_heap_arr, 80)"
   ]
  },
  {
   "cell_type": "code",
   "execution_count": 131,
   "metadata": {},
   "outputs": [
    {
     "name": "stdout",
     "output_type": "stream",
     "text": [
      "p: 4, c: 9, parent:10, current:50\n",
      "p: 1, c: 4, parent:70, current:50\n"
     ]
    },
    {
     "data": {
      "text/plain": [
       "[80, 70, 30, 40, 50, 25, 5, 15, 20, 10]"
      ]
     },
     "execution_count": 131,
     "metadata": {},
     "output_type": "execute_result"
    }
   ],
   "source": [
    "insert_max_heap(max_heap_arr, 50)"
   ]
  },
  {
   "cell_type": "code",
   "execution_count": 132,
   "metadata": {},
   "outputs": [
    {
     "name": "stdout",
     "output_type": "stream",
     "text": [
      "p: 4, c: 10, parent:50, current:60\n",
      "p: 1, c: 4, parent:70, current:60\n"
     ]
    },
    {
     "data": {
      "text/plain": [
       "[80, 70, 30, 40, 60, 25, 5, 15, 20, 10, 50]"
      ]
     },
     "execution_count": 132,
     "metadata": {},
     "output_type": "execute_result"
    }
   ],
   "source": [
    "insert_max_heap(max_heap_arr, 60)"
   ]
  },
  {
   "cell_type": "code",
   "execution_count": 133,
   "metadata": {},
   "outputs": [
    {
     "name": "stdout",
     "output_type": "stream",
     "text": [
      "p: 5, c: 11, parent:25, current:20\n"
     ]
    },
    {
     "data": {
      "text/plain": [
       "[80, 70, 30, 40, 60, 25, 5, 15, 20, 10, 50, 20]"
      ]
     },
     "execution_count": 133,
     "metadata": {},
     "output_type": "execute_result"
    }
   ],
   "source": [
    "insert_max_heap(max_heap_arr, 20)"
   ]
  },
  {
   "cell_type": "code",
   "execution_count": 134,
   "metadata": {},
   "outputs": [
    {
     "name": "stdout",
     "output_type": "stream",
     "text": [
      "p: 5, c: 12, parent:25, current:35\n",
      "p: 2, c: 5, parent:30, current:35\n",
      "p: 0, c: 2, parent:80, current:35\n"
     ]
    },
    {
     "data": {
      "text/plain": [
       "[80, 70, 35, 40, 60, 30, 5, 15, 20, 10, 50, 20, 25]"
      ]
     },
     "execution_count": 134,
     "metadata": {},
     "output_type": "execute_result"
    }
   ],
   "source": [
    "insert_max_heap(max_heap_arr, 35)"
   ]
  },
  {
   "cell_type": "code",
   "execution_count": 135,
   "metadata": {},
   "outputs": [
    {
     "name": "stdout",
     "output_type": "stream",
     "text": [
      "p: 6, c: 13, parent:5, current:10\n",
      "p: 2, c: 6, parent:35, current:10\n"
     ]
    },
    {
     "data": {
      "text/plain": [
       "[80, 70, 35, 40, 60, 30, 10, 15, 20, 10, 50, 20, 25, 5]"
      ]
     },
     "execution_count": 135,
     "metadata": {},
     "output_type": "execute_result"
    }
   ],
   "source": [
    "insert_max_heap(max_heap_arr, 10)"
   ]
  },
  {
   "cell_type": "code",
   "execution_count": 136,
   "metadata": {},
   "outputs": [
    {
     "name": "stdout",
     "output_type": "stream",
     "text": [
      "p: 6, c: 14, parent:10, current:90\n",
      "p: 2, c: 6, parent:35, current:90\n",
      "p: 0, c: 2, parent:80, current:90\n"
     ]
    },
    {
     "data": {
      "text/plain": [
       "[90, 70, 80, 40, 60, 30, 35, 15, 20, 10, 50, 20, 25, 5, 10]"
      ]
     },
     "execution_count": 136,
     "metadata": {},
     "output_type": "execute_result"
    }
   ],
   "source": [
    "insert_max_heap(max_heap_arr, 90)"
   ]
  },
  {
   "cell_type": "code",
   "execution_count": 137,
   "metadata": {},
   "outputs": [],
   "source": [
    "# Cool that only took 10 mins. For me to find the first bug. You wanna be in this industry? Get used to it"
   ]
  },
  {
   "cell_type": "code",
   "execution_count": 138,
   "metadata": {},
   "outputs": [],
   "source": [
    "# Implementation : getmax - Just return the root element\n",
    "# Input : heap\n",
    "# Output : max element\n",
    "def getmax(arr):\n",
    "    if arr:\n",
    "        return arr[0]"
   ]
  },
  {
   "cell_type": "code",
   "execution_count": 139,
   "metadata": {},
   "outputs": [
    {
     "data": {
      "text/plain": [
       "90"
      ]
     },
     "execution_count": 139,
     "metadata": {},
     "output_type": "execute_result"
    }
   ],
   "source": [
    "getmax(arr)"
   ]
  },
  {
   "cell_type": "code",
   "execution_count": 140,
   "metadata": {},
   "outputs": [],
   "source": [
    "getmax([])"
   ]
  },
  {
   "cell_type": "code",
   "execution_count": 141,
   "metadata": {},
   "outputs": [],
   "source": [
    "# That's all the testing we need for that.\n",
    "# Also, even though our heap is a heap it's not a sorted array. And we can use this heap data structure to sort the\n",
    "# array. We just need to think. Think just think."
   ]
  },
  {
   "cell_type": "code",
   "execution_count": 142,
   "metadata": {},
   "outputs": [],
   "source": [
    "# So when we were reading about heaps and it's implementation we so people using the size variable in the heap class\n",
    "# and I thought it's stupid to use a separate variable when you can just use the length field\n",
    "# One issue with that is len() is O(n) and\n",
    "# Two, the size variable limits the reach of heap, which is useful in sorting.\n",
    "# What they do in heap sort is that they heapify it first. Heap doesn't guarantee a sorted array/list but it does\n",
    "# guarantee that the max element (min element in case of a min heap) is at the root. They just swap that element with \n",
    "# last element and reduce heap size by one \n",
    "# They continue to do this for all the elements. And at the end of it the array becomes sorted. TaDa!!!"
   ]
  },
  {
   "cell_type": "code",
   "execution_count": 143,
   "metadata": {},
   "outputs": [],
   "source": [
    "# Tweaks. I'll remember this but I'll just remove the element from the root and put it in a new list.\n",
    "# Not very efficient, cause now we are using extra space and calling len() which itself is not very efficient\n",
    "# But that has to do for now."
   ]
  },
  {
   "cell_type": "code",
   "execution_count": 172,
   "metadata": {},
   "outputs": [],
   "source": [
    "# Implementation: Extract max - get the root element and reheapify the heap\n",
    "# Input : heap\n",
    "# Output : sorted list\n",
    "def heapSort(arr):\n",
    "    heap_arr = max_heap(arr)\n",
    "    sort_arr = []\n",
    "    while heap_arr:\n",
    "        sort_arr.append(heap_arr[0])\n",
    "        last_element = heap_arr.pop()\n",
    "        if not heap_arr:\n",
    "            break\n",
    "        heap_arr[0] = last_element\n",
    "        heap_arr = max_heap(arr)\n",
    "    return sort_arr\n",
    "        \n",
    "        \n",
    "    "
   ]
  },
  {
   "cell_type": "code",
   "execution_count": 173,
   "metadata": {},
   "outputs": [
    {
     "data": {
      "text/plain": [
       "[70, 40, 30, 25, 20, 15, 10, 5]"
      ]
     },
     "execution_count": 173,
     "metadata": {},
     "output_type": "execute_result"
    }
   ],
   "source": [
    "arr = [10, 20,25, 15, 40, 30, 5, 70]\n",
    "heapSort(arr)"
   ]
  },
  {
   "cell_type": "code",
   "execution_count": 174,
   "metadata": {},
   "outputs": [],
   "source": [
    "# I'm not proud of this. I'll be back and implement it in a proper class and using more efficient logic. See ya"
   ]
  },
  {
   "cell_type": "code",
   "execution_count": null,
   "metadata": {},
   "outputs": [],
   "source": []
  }
 ],
 "metadata": {
  "kernelspec": {
   "display_name": "Python 3",
   "language": "python",
   "name": "python3"
  },
  "language_info": {
   "codemirror_mode": {
    "name": "ipython",
    "version": 3
   },
   "file_extension": ".py",
   "mimetype": "text/x-python",
   "name": "python",
   "nbconvert_exporter": "python",
   "pygments_lexer": "ipython3",
   "version": "3.8.3"
  }
 },
 "nbformat": 4,
 "nbformat_minor": 4
}
