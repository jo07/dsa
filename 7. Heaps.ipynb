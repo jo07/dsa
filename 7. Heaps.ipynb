{
 "cells": [
  {
   "cell_type": "markdown",
   "metadata": {},
   "source": [
    "# HEAPS"
   ]
  },
  {
   "cell_type": "code",
   "execution_count": 1,
   "metadata": {},
   "outputs": [],
   "source": [
    "# Full disclosure : My ego has been hurt coz I couldn't complete the the delete node or pretty print BST in the last \n",
    "# chapter. May be I'll have more to learn before cracking that. Or maybe I'll need some fresh perspective. And due to\n",
    "# lack of time we are gonna move to the next challenge : Heaps. Let's get started"
   ]
  },
  {
   "cell_type": "markdown",
   "metadata": {},
   "source": [
    "> Heap is a tree data structure where each element is greater than both of it's children if its a max heap and less than the children for a min heap. It's balanced as in the depth of left node and right node are never greater than one. And the elements are inserted at the end of the array. Oh did I mention heaps are stored as arrays? That's cause every parent's have child at position 2k and 2k+1 if parent has the index 'k'. And to get the parent of a child you just divide by 2. So once an element is inserted you need to maintain the heap property by swapping the elements till we get a proper heap again. Since it's a binary tree and there are at max log(n) swaps needed it has a time complexity of.... you guessed it, log(n). This function is conincidently called the 'heapify' function in all the resources I checked."
   ]
  },
  {
   "cell_type": "code",
   "execution_count": 2,
   "metadata": {},
   "outputs": [],
   "source": [
    "# Let's define the basic methods we need for building a heap structure\n",
    "# heapify : As we discussed couple of mins ago, after a new element is inserted at the end we call this function on \n",
    "#           that node to make it heap again.\n",
    "# insert : Insert an element to the heap. I guess this will have to call the heapify on the last node after inserting\n",
    "#          a new element\n",
    "# pop : remove the last element from the heap\n",
    "# That should do it. I hope we had that pretty print BST function to see those heap. Dammit. Never mind"
   ]
  },
  {
   "cell_type": "code",
   "execution_count": null,
   "metadata": {},
   "outputs": [],
   "source": []
  }
 ],
 "metadata": {
  "kernelspec": {
   "display_name": "Python 3",
   "language": "python",
   "name": "python3"
  },
  "language_info": {
   "codemirror_mode": {
    "name": "ipython",
    "version": 3
   },
   "file_extension": ".py",
   "mimetype": "text/x-python",
   "name": "python",
   "nbconvert_exporter": "python",
   "pygments_lexer": "ipython3",
   "version": "3.8.3"
  }
 },
 "nbformat": 4,
 "nbformat_minor": 4
}
