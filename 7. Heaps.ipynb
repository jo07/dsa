{
 "cells": [
  {
   "cell_type": "markdown",
   "metadata": {},
   "source": [
    "# HEAPS"
   ]
  },
  {
   "cell_type": "code",
   "execution_count": 1,
   "metadata": {},
   "outputs": [],
   "source": [
    "# Full disclosure : My ego has been hurt coz I couldn't complete the the delete node or pretty print BST in the last \n",
    "# chapter. May be I'll have more to learn before cracking that. Or maybe I'll need some fresh perspective. And due to\n",
    "# lack of time we are gonna move to the next challenge : Heaps. Let's get started"
   ]
  },
  {
   "cell_type": "markdown",
   "metadata": {},
   "source": [
    "> Heap is a tree data structure where each element is greater than both of it's children if its a max heap and less than the children for a min heap. It's balanced as in the depth of left node and right node are never greater than one. And the elements are inserted at the end of the array. Oh did I mention heaps are stored as arrays? That's cause every parent's have child at position 2k and 2k+1 if parent has the index 'k'. And to get the parent of a child you just divide by 2. So once an element is inserted you need to maintain the heap property by swapping the elements till we get a proper heap again. Since it's a binary tree and there are at max log(n) swaps needed it has a time complexity of.... you guessed it, log(n). This function is conincidently called the 'heapify' function in all the resources I checked."
   ]
  },
  {
   "cell_type": "code",
   "execution_count": 4,
   "metadata": {},
   "outputs": [],
   "source": [
    "# Let's define the basic methods we need for building a heap structure\n",
    "# heapify : You go top down and keep on swapping till the element adhere to the heap standards\n",
    "# insert : Insert an element to the heap. It keeps on swapping with the parent till the heap condition is met\n",
    "# pop : remove the last element from the heap\n",
    "# getmax : root element is going to be the max. so just return the val in the root node\n",
    "# extractmax : Oooh, that should be fun. Extract the max element(root node). I have no idea how to do that. Google to\n",
    "#              the rescue. :D. I did. Just put the last element on \n",
    "# That should do it. I hope we had that pretty print BST function to see those heap. Dammit. Never mind"
   ]
  },
  {
   "cell_type": "code",
   "execution_count": 131,
   "metadata": {},
   "outputs": [],
   "source": [
    "# Wait there. If the array starts at 0 then the child node would be 2k+1, 2k+2 for left, right child respectively. But\n",
    "# the parent node would be (k-1)/2 where K is the position or index of the item in the array"
   ]
  },
  {
   "cell_type": "code",
   "execution_count": 128,
   "metadata": {},
   "outputs": [
    {
     "data": {
      "text/plain": [
       "-1"
      ]
     },
     "execution_count": 128,
     "metadata": {},
     "output_type": "execute_result"
    }
   ],
   "source": [
    "(0-1)//2 # calculating parent of root node"
   ]
  },
  {
   "cell_type": "code",
   "execution_count": 130,
   "metadata": {},
   "outputs": [
    {
     "data": {
      "text/plain": [
       "0"
      ]
     },
     "execution_count": 130,
     "metadata": {},
     "output_type": "execute_result"
    }
   ],
   "source": [
    "# '//' this is the integer division operator. It returns the whole number, the floor actually\n",
    "1//2  # Division should give 0.5 and the floor is 0. So integer division returns 0. Savvy?"
   ]
  },
  {
   "cell_type": "code",
   "execution_count": 87,
   "metadata": {},
   "outputs": [],
   "source": [
    "# Implementation - Heapify (Max heap)\n",
    "# Input - arr: a list\n",
    "#         i: index of the element to be heapified\n",
    "# Output - Heapified node at the index i\n",
    "\n",
    "def heapify(arr, i):\n",
    "    # assume i is the largest\n",
    "    largest = i\n",
    "    # find the length of the array, useful to check if child nodes exists or not\n",
    "    size = len(arr)\n",
    "    # find the position of left and right child. We will later check if they exist or not\n",
    "    left_child = 2*i + 1\n",
    "    right_child = 2*i +2\n",
    "    # if left child exist and index element is less than it's left child element\n",
    "    if left_child < size and arr[i] < arr[left_child]:\n",
    "        # give the largest tag to left child\n",
    "        largest = left_child\n",
    "    # Now we need to compare between the right child and whichever element is the largest  \n",
    "    # if right child exist and largest element is less than the right child element\n",
    "    if right_child < size and arr[largest] < arr[right_child]:\n",
    "        # we reset the largest\n",
    "        largest = right_child\n",
    "    # And if we indeed have reset the largest, we need to swap\n",
    "    if largest !=i:\n",
    "        # so we swap\n",
    "        arr[i], arr[largest] = arr[largest], arr[i]\n",
    "        # Now the element at i is at the largest, so we need to heapify that node and all it's subnode\n",
    "        arr = heapify(arr, largest)\n",
    "    return arr\n",
    "    # Now this function is useless unless we call it in the heapsort function passing in an unsorted array\n",
    "    # so let's create that function"
   ]
  },
  {
   "cell_type": "code",
   "execution_count": 84,
   "metadata": {},
   "outputs": [],
   "source": [
    "# Implementation - MaxHeap.\n",
    "# Input - arr: which will be used to build the max heap\n",
    "# Output - arr: Which follows maxheap convention\n",
    "def max_heap(arr):\n",
    "    # We need to go from the last parent node and move up till root node and call the heapify function we created before\n",
    "    # From length we can get the last node and it's parent node\n",
    "    size = len(arr)\n",
    "    for i in range((size//2)-1, -1, -1): # '-1' is the step function. We are going backwards\n",
    "        arr = heapify(arr, i)\n",
    "    return arr"
   ]
  },
  {
   "cell_type": "code",
   "execution_count": 89,
   "metadata": {},
   "outputs": [
    {
     "data": {
      "text/plain": [
       "[70, 40, 30, 20, 10, 25, 5, 15]"
      ]
     },
     "execution_count": 89,
     "metadata": {},
     "output_type": "execute_result"
    }
   ],
   "source": [
    "arr = [10, 20,25, 15, 40, 30, 5, 70]\n",
    "max_heap_arr = max_heap(arr)\n",
    "max_heap_arr"
   ]
  },
  {
   "cell_type": "code",
   "execution_count": 90,
   "metadata": {},
   "outputs": [],
   "source": [
    "# Note to self\n",
    "# There are going to be times in your coder life when you are debugging a sound algorithm for days and you lose all\n",
    "# the trust in yourself and the world of logic just tell yourself to calm down and '&' is a bitwise operator in \n",
    "# in python you duffer!!"
   ]
  },
  {
   "cell_type": "code",
   "execution_count": null,
   "metadata": {},
   "outputs": [],
   "source": []
  }
 ],
 "metadata": {
  "kernelspec": {
   "display_name": "Python 3",
   "language": "python",
   "name": "python3"
  },
  "language_info": {
   "codemirror_mode": {
    "name": "ipython",
    "version": 3
   },
   "file_extension": ".py",
   "mimetype": "text/x-python",
   "name": "python",
   "nbconvert_exporter": "python",
   "pygments_lexer": "ipython3",
   "version": "3.8.3"
  }
 },
 "nbformat": 4,
 "nbformat_minor": 4
}
