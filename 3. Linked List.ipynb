{
 "cells": [
  {
   "cell_type": "markdown",
   "metadata": {},
   "source": [
    "# Linked List"
   ]
  },
  {
   "cell_type": "code",
   "execution_count": 55,
   "metadata": {},
   "outputs": [],
   "source": [
    "# In the previous chapters we got familiar with some basic built in data structures in python. \n",
    "# Now we move on to more sophisticated ones and built the class from scratch. Ain't that fun?\n"
   ]
  },
  {
   "cell_type": "markdown",
   "metadata": {},
   "source": [
    "> They are nodes connnected via a pointer or a link. A node has an element and a pointer to the next node, so it's recursive in nature. Since each node is connected by links its easier to break those links and insert a node between two nodes. But accessing an element would be difficult since there is no indexing here. Youl will have to traverse through each node from the start, ie the head node, and keep on searching until you find what you are looking for. Obviously we won't be using it for applicatons where there is lot of random data access involved."
   ]
  },
  {
   "cell_type": "code",
   "execution_count": 56,
   "metadata": {},
   "outputs": [],
   "source": [
    "# Let's define the node class\n",
    "class Node:\n",
    "    def __init__(self, data = None):\n",
    "        self.data = data # Each node stores one data element. Initialized to none\n",
    "        self.next = None # By default the node points to nothing\n",
    "        # that would be all"
   ]
  },
  {
   "cell_type": "code",
   "execution_count": 57,
   "metadata": {},
   "outputs": [],
   "source": [
    "# Now let's define the linked list class which will be using the Node class to built the linked list.\n",
    "# It needs a head node and a method to insert a new node\n",
    "class LinkedList:\n",
    "    def __init__(self):\n",
    "        self.current = None # current node is initialized to None\n",
    "        \n",
    "    # method to append a new node at the end of the linked list\n",
    "    def append_node(self, value):\n",
    "        # lets create the node instance first\n",
    "        new_node = Node(value)\n",
    "        # two cases, either the linklist is empty or it has one or more nodes\n",
    "        # if it has one or more nodes the new nodes gets added at the end\n",
    "        if (self.current): \n",
    "            current = self.current\n",
    "            while current.next:\n",
    "                current = current.next\n",
    "            current.next = new_node\n",
    "        # if the linked list is empty the new node becomes the head\n",
    "        else:\n",
    "            self.current = new_node\n",
    "    \n",
    "    # We need another method to traverse this linked list. Let's create a method to print each element\n",
    "    def print_elements(self):\n",
    "        current = self.current\n",
    "        while current:\n",
    "            print(current.data)\n",
    "            current = current.next\n",
    "            "
   ]
  },
  {
   "cell_type": "code",
   "execution_count": 58,
   "metadata": {},
   "outputs": [],
   "source": [
    "# let's test it out, create our linked list\n",
    "linked_list = LinkedList()"
   ]
  },
  {
   "cell_type": "code",
   "execution_count": 59,
   "metadata": {},
   "outputs": [],
   "source": [
    "# now lets add some nodes\n",
    "linked_list.append_node(1)\n",
    "linked_list.append_node(2)\n",
    "linked_list.append_node(3)\n",
    "linked_list.append_node(4)"
   ]
  },
  {
   "cell_type": "code",
   "execution_count": 60,
   "metadata": {},
   "outputs": [
    {
     "name": "stdout",
     "output_type": "stream",
     "text": [
      "1\n",
      "2\n",
      "3\n",
      "4\n"
     ]
    }
   ],
   "source": [
    "# let's print them out to see if it worked\n",
    "linked_list.print_elements()"
   ]
  },
  {
   "cell_type": "code",
   "execution_count": 61,
   "metadata": {},
   "outputs": [],
   "source": [
    "# It worked but there is lot of room to improve.\n",
    "# We can store the tail of the linked list so when we want to insert a new one we just point the new node to next of the tail node\n",
    "# Also let's implement a method to return the next node on the node class. We can use it recursively out of the class to make it more useful\n",
    "# What say?"
   ]
  },
  {
   "cell_type": "code",
   "execution_count": 62,
   "metadata": {},
   "outputs": [],
   "source": [
    "class Node:\n",
    "    def __init__(self, data = None):\n",
    "        self.data = data \n",
    "        self.next = None\n",
    "    \n",
    "    def next_node(self):\n",
    "        return self.next\n",
    "\n",
    "class LinkedList:\n",
    "    def __init__(self):\n",
    "        self.head = None\n",
    "        self.end = None # we will store the end node here\n",
    "    \n",
    "    def add_node(self, value):\n",
    "        new_node = Node(value)\n",
    "        if self.head:\n",
    "            self.end.next = new_node\n",
    "        else:\n",
    "            self.head = new_node\n",
    "        self.end = new_node # we update the end node here\n",
    "        \n",
    "    def print_elements(self):\n",
    "        current = self.head\n",
    "        while current:\n",
    "            print(current.data)\n",
    "            current = current.next\n",
    "            \n",
    "    def get_head_node(self):\n",
    "        return self.head # fetch the head node\n",
    "    "
   ]
  },
  {
   "cell_type": "code",
   "execution_count": 84,
   "metadata": {},
   "outputs": [],
   "source": [
    "# let's try it out\n",
    "linked_list = LinkedList()\n",
    "linked_list.append_node(1)\n",
    "linked_list.append_node(2)\n",
    "linked_list.append_node(3)\n",
    "linked_list.append_node(4)"
   ]
  },
  {
   "cell_type": "code",
   "execution_count": 85,
   "metadata": {},
   "outputs": [
    {
     "name": "stdout",
     "output_type": "stream",
     "text": [
      "1\n",
      "2\n",
      "3\n",
      "4\n"
     ]
    }
   ],
   "source": [
    "linked_list.print_elements()"
   ]
  },
  {
   "cell_type": "code",
   "execution_count": 86,
   "metadata": {},
   "outputs": [
    {
     "data": {
      "text/plain": [
       "1"
      ]
     },
     "execution_count": 86,
     "metadata": {},
     "output_type": "execute_result"
    }
   ],
   "source": [
    "node = linked_list.get_head_node()\n",
    "node.data"
   ]
  },
  {
   "cell_type": "code",
   "execution_count": 87,
   "metadata": {},
   "outputs": [
    {
     "data": {
      "text/plain": [
       "2"
      ]
     },
     "execution_count": 87,
     "metadata": {},
     "output_type": "execute_result"
    }
   ],
   "source": [
    "node.next.data"
   ]
  },
  {
   "cell_type": "code",
   "execution_count": 88,
   "metadata": {},
   "outputs": [
    {
     "name": "stdout",
     "output_type": "stream",
     "text": [
      "1\n",
      "2\n",
      "3\n",
      "4\n"
     ]
    }
   ],
   "source": [
    "while node:\n",
    "    print(node.data)\n",
    "    node = node.next"
   ]
  },
  {
   "cell_type": "code",
   "execution_count": 95,
   "metadata": {},
   "outputs": [],
   "source": [
    "# Much better. But, but, but shouldn't the next_node method be in LinkedList class? Let's pass the node to the class and do node.next"
   ]
  },
  {
   "cell_type": "code",
   "execution_count": 83,
   "metadata": {},
   "outputs": [],
   "source": [
    "class Node:\n",
    "    def __init__(self, data = None):\n",
    "        self.data = data \n",
    "        self.next = None\n",
    "    \n",
    "    \n",
    "\n",
    "class LinkedList:\n",
    "    def __init__(self):\n",
    "        self.head = None\n",
    "        self.end = None # we will store the end node here\n",
    "    \n",
    "    def add_node(self, value):\n",
    "        new_node = Node(value)\n",
    "        if self.head:\n",
    "            self.end.next = new_node\n",
    "        else:\n",
    "            self.head = new_node\n",
    "        self.end = new_node # we update the end node here\n",
    "        \n",
    "    def print_elements(self):\n",
    "        current = self.head\n",
    "        while current:\n",
    "            print(current.data)\n",
    "            current = current.next\n",
    "            \n",
    "    def get_head_node(self):\n",
    "        return self.head # fetch the head node\n",
    "    \n",
    "    def next_node(self, node : Node):\n",
    "        return node.next\n",
    "    "
   ]
  },
  {
   "cell_type": "code",
   "execution_count": 91,
   "metadata": {},
   "outputs": [
    {
     "data": {
      "text/plain": [
       "1"
      ]
     },
     "execution_count": 91,
     "metadata": {},
     "output_type": "execute_result"
    }
   ],
   "source": [
    "node = linked_list.get_head_node()\n",
    "node.data"
   ]
  },
  {
   "cell_type": "code",
   "execution_count": 93,
   "metadata": {},
   "outputs": [
    {
     "data": {
      "text/plain": [
       "2"
      ]
     },
     "execution_count": 93,
     "metadata": {},
     "output_type": "execute_result"
    }
   ],
   "source": [
    "linked_list.next_node(node).data"
   ]
  },
  {
   "cell_type": "code",
   "execution_count": 94,
   "metadata": {},
   "outputs": [
    {
     "name": "stdout",
     "output_type": "stream",
     "text": [
      "1\n",
      "2\n",
      "3\n",
      "4\n"
     ]
    }
   ],
   "source": [
    "while node:\n",
    "    print(node.data)\n",
    "    node = linked_list.next_node(node)"
   ]
  },
  {
   "cell_type": "code",
   "execution_count": 96,
   "metadata": {},
   "outputs": [],
   "source": [
    "# This works too"
   ]
  },
  {
   "cell_type": "code",
   "execution_count": 97,
   "metadata": {},
   "outputs": [],
   "source": [
    "# Now we can look how to insert an element in between a node\n",
    "# We only need the node before where we need to insert, except if we want to add at the beginning. \n",
    "# So let's add maybe a separate case for that"
   ]
  },
  {
   "cell_type": "code",
   "execution_count": 101,
   "metadata": {},
   "outputs": [],
   "source": [
    "class LinkedList:\n",
    "    def __init__(self):\n",
    "        self.head = None\n",
    "        self.end = None # we will store the end node here\n",
    "    \n",
    "    def append_node(self, value):\n",
    "        new_node = Node(value)\n",
    "        if self.head:\n",
    "            self.end.next = new_node\n",
    "        else:\n",
    "            self.head = new_node\n",
    "        self.end = new_node # we update the end node here\n",
    "        \n",
    "    def print_elements(self):\n",
    "        current = self.head\n",
    "        while current:\n",
    "            print(current.data)\n",
    "            current = current.next\n",
    "            \n",
    "    def get_head_node(self):\n",
    "        return self.head # fetch the head node\n",
    "    \n",
    "    def next_node(self, node : Node):\n",
    "        return node.next\n",
    "    \n",
    "    def insert_node(self, value, prev_node : Node = None ):\n",
    "        new_node = Node(value)\n",
    "        if self.head:\n",
    "            if prev_node is not None:\n",
    "                pushed_node = prev_node.next\n",
    "                prev_node.next = new_node\n",
    "                new_node.next = pushed_node\n",
    "            else: #if prev_node is None, means insert at the head\n",
    "                next_node = self.head\n",
    "                self.head = new_node\n",
    "                self.head.next = next_node\n",
    "        else: # if head is None, there is no element, we can only insert it at the head. No need to check prev node\n",
    "            self.head = new_node\n"
   ]
  },
  {
   "cell_type": "code",
   "execution_count": 102,
   "metadata": {},
   "outputs": [],
   "source": [
    "# let's test it out\n",
    "linked_list = LinkedList()\n",
    "linked_list.append_node(1)\n",
    "linked_list.append_node(2)\n",
    "linked_list.append_node(3)\n",
    "linked_list.append_node(4)"
   ]
  },
  {
   "cell_type": "code",
   "execution_count": 103,
   "metadata": {},
   "outputs": [
    {
     "name": "stdout",
     "output_type": "stream",
     "text": [
      "1\n",
      "2\n",
      "3\n",
      "4\n"
     ]
    }
   ],
   "source": [
    "linked_list.print_elements()"
   ]
  },
  {
   "cell_type": "code",
   "execution_count": 104,
   "metadata": {},
   "outputs": [
    {
     "data": {
      "text/plain": [
       "1"
      ]
     },
     "execution_count": 104,
     "metadata": {},
     "output_type": "execute_result"
    }
   ],
   "source": [
    "# we are gonna insert the element after the first node, so first node is the prev_node in this case\n",
    "# let's fetch the first node, i.e., prev_node, i.e., head node\n",
    "prev_node = linked_list.get_head_node()\n",
    "prev_node.data"
   ]
  },
  {
   "cell_type": "code",
   "execution_count": 105,
   "metadata": {},
   "outputs": [],
   "source": [
    "linked_list.insert_node(1.5, prev_node)"
   ]
  },
  {
   "cell_type": "code",
   "execution_count": 106,
   "metadata": {},
   "outputs": [
    {
     "name": "stdout",
     "output_type": "stream",
     "text": [
      "1\n",
      "1.5\n",
      "2\n",
      "3\n",
      "4\n"
     ]
    }
   ],
   "source": [
    "linked_list.print_elements()"
   ]
  },
  {
   "cell_type": "code",
   "execution_count": 108,
   "metadata": {},
   "outputs": [],
   "source": [
    "# hooray, that worked. Let's try one more"
   ]
  },
  {
   "cell_type": "code",
   "execution_count": 109,
   "metadata": {},
   "outputs": [],
   "source": [
    "end_node = linked_list.end"
   ]
  },
  {
   "cell_type": "code",
   "execution_count": 110,
   "metadata": {},
   "outputs": [
    {
     "name": "stdout",
     "output_type": "stream",
     "text": [
      "1\n",
      "1.5\n",
      "2\n",
      "3\n",
      "4\n",
      "4.5\n"
     ]
    }
   ],
   "source": [
    "linked_list.insert_node(4.5, end_node)\n",
    "linked_list.print_elements()"
   ]
  },
  {
   "cell_type": "code",
   "execution_count": 111,
   "metadata": {},
   "outputs": [
    {
     "name": "stdout",
     "output_type": "stream",
     "text": [
      "1\n",
      "1.5\n",
      "2\n",
      "2.5\n",
      "3\n",
      "4\n",
      "4.5\n"
     ]
    }
   ],
   "source": [
    "# let's do one more just to be sure. It's the third case and also the third node\n",
    "third_node = linked_list.get_head_node().next.next\n",
    "linked_list.insert_node(2.5, third_node)\n",
    "linked_list.print_elements()"
   ]
  },
  {
   "cell_type": "code",
   "execution_count": 112,
   "metadata": {},
   "outputs": [],
   "source": [
    "# Now I'll go sleep peacefully. Till next time"
   ]
  },
  {
   "cell_type": "markdown",
   "metadata": {},
   "source": [
    "#### Deletion"
   ]
  },
  {
   "cell_type": "code",
   "execution_count": 113,
   "metadata": {},
   "outputs": [],
   "source": [
    "# There is one more thing we need to do, that's a deletion. Not very efficient if we are given just an element. \n",
    "# Cause we also need the previous element to break the link. So we need to traverse all the way down to find the element"
   ]
  },
  {
   "cell_type": "code",
   "execution_count": 136,
   "metadata": {},
   "outputs": [],
   "source": [
    "class LinkedList:\n",
    "    def __init__(self):\n",
    "        self.head = None\n",
    "        self.end = None # we will store the end node here\n",
    "    \n",
    "    def append_node(self, value):\n",
    "        new_node = Node(value)\n",
    "        if self.head:\n",
    "            self.end.next = new_node\n",
    "        else:\n",
    "            self.head = new_node\n",
    "        self.end = new_node # we update the end node here\n",
    "        \n",
    "    def print_elements(self):\n",
    "        current = self.head\n",
    "        while current:\n",
    "            print(current.data)\n",
    "            current = current.next\n",
    "            \n",
    "    def get_head_node(self):\n",
    "        return self.head # fetch the head node\n",
    "    \n",
    "    def next_node(self, node : Node):\n",
    "        return node.next\n",
    "    \n",
    "    def insert_node(self, value, prev_node : Node = None ):\n",
    "        new_node = Node(value)\n",
    "        if self.head:\n",
    "            if prev_node is not None:\n",
    "                pushed_node = prev_node.next\n",
    "                prev_node.next = new_node\n",
    "                new_node.next = pushed_node\n",
    "            else: #if prev_node is None, means insert at the head\n",
    "                next_node = self.head\n",
    "                self.head = new_node\n",
    "                self.head.next = next_node\n",
    "        else: # if head is None, there is no element, we can only insert it at the head. No need to check prev node\n",
    "            self.head = new_node\n",
    "            \n",
    "    def delete_node(self, value):\n",
    "        head_node = self.head\n",
    "        tail_node = self.end\n",
    "        if head_node is not None:\n",
    "            # if head node is to be deleted\n",
    "            if head_node.data == value:\n",
    "                # if there is only one node, head and tail are the same and we need to update the tail node\n",
    "                if tail_node.data == value:\n",
    "                    self.end = None\n",
    "                self.head = head_node.next\n",
    "            # if head node is not the one to be deleted\n",
    "            current_node = head_node\n",
    "            next_node = current_node.next\n",
    "            while next_node is not None:\n",
    "                # if we found the node to be deleted, only the first occurence\n",
    "                if next_node.data == value:\n",
    "                    # if we need to delete the tail node then we need to update it\n",
    "                    if tail_node.data == value:\n",
    "                        self.end = current_node\n",
    "                    # we point the \"previous node\", terrible naming, to the node next to the node to be deleted\n",
    "                    current_node.next = next_node.next\n",
    "                    next_node = None\n",
    "                    break\n",
    "                else:\n",
    "                    current_node = next_node\n",
    "                    next_node = next_node.next\n",
    "        # there is nothing to do if head node is None. And we can return self if we want to do method cascading. \n",
    "        "
   ]
  },
  {
   "cell_type": "code",
   "execution_count": 137,
   "metadata": {},
   "outputs": [
    {
     "name": "stdout",
     "output_type": "stream",
     "text": [
      "0\n",
      "1\n",
      "2\n",
      "3\n",
      "4\n",
      "5\n",
      "6\n",
      "7\n",
      "8\n",
      "9\n"
     ]
    }
   ],
   "source": [
    "# Let's test it out, cause we shouldn't trust our senses too much\n",
    "linked_list = LinkedList()\n",
    "for i in range(10):\n",
    "    linked_list.append_node(i)\n",
    "linked_list.print_elements()"
   ]
  },
  {
   "cell_type": "code",
   "execution_count": 138,
   "metadata": {},
   "outputs": [
    {
     "name": "stdout",
     "output_type": "stream",
     "text": [
      "0\n",
      "1\n",
      "2\n",
      "3\n",
      "4\n",
      "5\n",
      "6\n",
      "7\n",
      "8\n"
     ]
    }
   ],
   "source": [
    "# delete tail node\n",
    "linked_list.delete_node(9)\n",
    "linked_list.print_elements()"
   ]
  },
  {
   "cell_type": "code",
   "execution_count": 140,
   "metadata": {},
   "outputs": [
    {
     "data": {
      "text/plain": [
       "8"
      ]
     },
     "execution_count": 140,
     "metadata": {},
     "output_type": "execute_result"
    }
   ],
   "source": [
    "# So far good. We also need to check if the end node is updated or not\n",
    "linked_list.end.data"
   ]
  },
  {
   "cell_type": "code",
   "execution_count": 125,
   "metadata": {},
   "outputs": [
    {
     "name": "stdout",
     "output_type": "stream",
     "text": [
      "0\n",
      "1\n",
      "2\n",
      "3\n",
      "4\n",
      "6\n",
      "7\n",
      "8\n"
     ]
    }
   ],
   "source": [
    "# Nice. Now let's try one of the middle nodes\n",
    "linked_list.delete_node(5)\n",
    "linked_list.print_elements()\n"
   ]
  },
  {
   "cell_type": "code",
   "execution_count": 126,
   "metadata": {},
   "outputs": [
    {
     "name": "stdout",
     "output_type": "stream",
     "text": [
      "1\n",
      "2\n",
      "3\n",
      "4\n",
      "6\n",
      "7\n",
      "8\n"
     ]
    }
   ],
   "source": [
    "# Beautiful. Now let's try the head node. Fingers crossed\n",
    "linked_list.delete_node(0)\n",
    "linked_list.print_elements()"
   ]
  },
  {
   "cell_type": "code",
   "execution_count": 127,
   "metadata": {},
   "outputs": [
    {
     "name": "stdout",
     "output_type": "stream",
     "text": [
      "1\n",
      "2\n",
      "3\n",
      "4\n",
      "6\n",
      "7\n",
      "8\n"
     ]
    }
   ],
   "source": [
    "# The actual thirll of coding is when you get to debug. This is getting boring now.\n",
    "# But let's try deleting one non existent element\n",
    "linked_list.delete_node(50)\n",
    "linked_list.print_elements()"
   ]
  },
  {
   "cell_type": "code",
   "execution_count": 143,
   "metadata": {},
   "outputs": [
    {
     "name": "stdout",
     "output_type": "stream",
     "text": [
      "0\n",
      "1\n"
     ]
    }
   ],
   "source": [
    "# let's try linked list with two elements\n",
    "linked_list = LinkedList()\n",
    "for i in range(2):\n",
    "    linked_list.append_node(i)\n",
    "linked_list.print_elements()"
   ]
  },
  {
   "cell_type": "code",
   "execution_count": 144,
   "metadata": {},
   "outputs": [
    {
     "name": "stdout",
     "output_type": "stream",
     "text": [
      "1\n"
     ]
    }
   ],
   "source": [
    "linked_list.delete_node(0)\n",
    "linked_list.print_elements()"
   ]
  },
  {
   "cell_type": "code",
   "execution_count": 145,
   "metadata": {},
   "outputs": [
    {
     "data": {
      "text/plain": [
       "1"
      ]
     },
     "execution_count": 145,
     "metadata": {},
     "output_type": "execute_result"
    }
   ],
   "source": [
    "linked_list.end.data"
   ]
  },
  {
   "cell_type": "code",
   "execution_count": 146,
   "metadata": {},
   "outputs": [],
   "source": [
    "linked_list.delete_node(1)\n",
    "linked_list.print_elements()"
   ]
  },
  {
   "cell_type": "code",
   "execution_count": 148,
   "metadata": {},
   "outputs": [
    {
     "data": {
      "text/plain": [
       "True"
      ]
     },
     "execution_count": 148,
     "metadata": {},
     "output_type": "execute_result"
    }
   ],
   "source": [
    "linked_list.end is None"
   ]
  },
  {
   "cell_type": "code",
   "execution_count": 121,
   "metadata": {},
   "outputs": [],
   "source": [
    "# I've nothing left to say except I hope doubly linked list could be more challenging/interesting. Bu'bye!!!."
   ]
  },
  {
   "cell_type": "code",
   "execution_count": null,
   "metadata": {},
   "outputs": [],
   "source": []
  }
 ],
 "metadata": {
  "kernelspec": {
   "display_name": "Python 3",
   "language": "python",
   "name": "python3"
  },
  "language_info": {
   "codemirror_mode": {
    "name": "ipython",
    "version": 3
   },
   "file_extension": ".py",
   "mimetype": "text/x-python",
   "name": "python",
   "nbconvert_exporter": "python",
   "pygments_lexer": "ipython3",
   "version": "3.8.3"
  }
 },
 "nbformat": 4,
 "nbformat_minor": 4
}
