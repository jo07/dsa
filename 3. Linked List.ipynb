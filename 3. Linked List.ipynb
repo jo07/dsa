{
 "cells": [
  {
   "cell_type": "markdown",
   "metadata": {},
   "source": [
    "# Linked List"
   ]
  },
  {
   "cell_type": "code",
   "execution_count": 55,
   "metadata": {},
   "outputs": [],
   "source": [
    "# In the previous chapters we got familiar with some basic built in data structures in python. \n",
    "# Now we move on to more sophisticated ones and built the class from scratch. Ain't that fun?\n"
   ]
  },
  {
   "cell_type": "markdown",
   "metadata": {},
   "source": [
    "> They are nodes connnected via a pointer or a link. A node has an element and a pointer to the next node, so it's recursive in nature. Since each node is connected by links its easier to break those links and insert a node between two nodes. But accessing an element would be difficult since there is no indexing here. Youl will have to traverse through each node from the start, ie the head node, and keep on searching until you find what you are looking for. Obviously we won't be using it for applicatons where there is lot of random data access involved."
   ]
  },
  {
   "cell_type": "code",
   "execution_count": 56,
   "metadata": {},
   "outputs": [],
   "source": [
    "# Let's define the node class\n",
    "class Node:\n",
    "    def __init__(self, data = None):\n",
    "        self.data = data # Each node stores one data element. Initialized to none\n",
    "        self.next = None # By default the node points to nothing\n",
    "        # that would be all"
   ]
  },
  {
   "cell_type": "code",
   "execution_count": 57,
   "metadata": {},
   "outputs": [],
   "source": [
    "# Now let's define the linked list class which will be using the Node class to built the linked list.\n",
    "# It needs a head node and a method to insert a new node\n",
    "class LinkedList:\n",
    "    def __init__(self):\n",
    "        self.current = None # current node is initialized to None\n",
    "        \n",
    "    # method to add a new node at the end of the linked list\n",
    "    def add_node(self, value):\n",
    "        # lets create the node instance first\n",
    "        new_node = Node(value)\n",
    "        # two cases, either the linklist is empty or it has one or more nodes\n",
    "        # if it has one or more nodes the new nodes gets added at the end\n",
    "        if (self.current): \n",
    "            current = self.current\n",
    "            while current.next:\n",
    "                current = current.next\n",
    "            current.next = new_node\n",
    "        # if the linked list is empty the new node becomes the head\n",
    "        else:\n",
    "            self.current = new_node\n",
    "    \n",
    "    # We need another method to traverse this linked list. Let's create a method to print each element\n",
    "    def print_elements(self):\n",
    "        current = self.current\n",
    "        while current:\n",
    "            print(current.data)\n",
    "            current = current.next\n",
    "            "
   ]
  },
  {
   "cell_type": "code",
   "execution_count": 58,
   "metadata": {},
   "outputs": [],
   "source": [
    "# let's test it out, create our linked list\n",
    "linked_list = LinkedList()"
   ]
  },
  {
   "cell_type": "code",
   "execution_count": 59,
   "metadata": {},
   "outputs": [],
   "source": [
    "# now lets add some nodes\n",
    "linked_list.add_node(1)\n",
    "linked_list.add_node(2)\n",
    "linked_list.add_node(3)\n",
    "linked_list.add_node(4)"
   ]
  },
  {
   "cell_type": "code",
   "execution_count": 60,
   "metadata": {},
   "outputs": [
    {
     "name": "stdout",
     "output_type": "stream",
     "text": [
      "1\n",
      "2\n",
      "3\n",
      "4\n"
     ]
    }
   ],
   "source": [
    "# let's print them out to see if it worked\n",
    "linked_list.print_elements()"
   ]
  },
  {
   "cell_type": "code",
   "execution_count": 61,
   "metadata": {},
   "outputs": [],
   "source": [
    "# It worked but there is lot of room to improve.\n",
    "# We can store the tail of the linked list so when we want to insert a new one we just point the new node to next of the tail node\n",
    "# Also let's implement a method to return the next node on the node class. We can use it recursively out of the class to make it more useful\n",
    "# What say?"
   ]
  },
  {
   "cell_type": "code",
   "execution_count": 62,
   "metadata": {},
   "outputs": [],
   "source": [
    "class Node:\n",
    "    def __init__(self, data = None):\n",
    "        self.data = data \n",
    "        self.next = None\n",
    "    \n",
    "    def next_node(self):\n",
    "        return self.next\n",
    "\n",
    "class LinkedList:\n",
    "    def __init__(self):\n",
    "        self.head = None\n",
    "        self.end = None # we will store the end node here\n",
    "    \n",
    "    def add_node(self, value):\n",
    "        new_node = Node(value)\n",
    "        if self.head:\n",
    "            self.end.next = new_node\n",
    "        else:\n",
    "            self.head = new_node\n",
    "        self.end = new_node # we update the end node here\n",
    "        \n",
    "    def print_elements(self):\n",
    "        current = self.head\n",
    "        while current:\n",
    "            print(current.data)\n",
    "            current = current.next\n",
    "            \n",
    "    def get_head_node(self):\n",
    "        return self.head # fetch the head node\n",
    "    "
   ]
  },
  {
   "cell_type": "code",
   "execution_count": 84,
   "metadata": {},
   "outputs": [],
   "source": [
    "# let's try it out\n",
    "linked_list = LinkedList()\n",
    "linked_list.add_node(1)\n",
    "linked_list.add_node(2)\n",
    "linked_list.add_node(3)\n",
    "linked_list.add_node(4)"
   ]
  },
  {
   "cell_type": "code",
   "execution_count": 85,
   "metadata": {},
   "outputs": [
    {
     "name": "stdout",
     "output_type": "stream",
     "text": [
      "1\n",
      "2\n",
      "3\n",
      "4\n"
     ]
    }
   ],
   "source": [
    "linked_list.print_elements()"
   ]
  },
  {
   "cell_type": "code",
   "execution_count": 86,
   "metadata": {},
   "outputs": [
    {
     "data": {
      "text/plain": [
       "1"
      ]
     },
     "execution_count": 86,
     "metadata": {},
     "output_type": "execute_result"
    }
   ],
   "source": [
    "node = linked_list.get_head_node()\n",
    "node.data"
   ]
  },
  {
   "cell_type": "code",
   "execution_count": 87,
   "metadata": {},
   "outputs": [
    {
     "data": {
      "text/plain": [
       "2"
      ]
     },
     "execution_count": 87,
     "metadata": {},
     "output_type": "execute_result"
    }
   ],
   "source": [
    "node.next.data"
   ]
  },
  {
   "cell_type": "code",
   "execution_count": 88,
   "metadata": {},
   "outputs": [
    {
     "name": "stdout",
     "output_type": "stream",
     "text": [
      "1\n",
      "2\n",
      "3\n",
      "4\n"
     ]
    }
   ],
   "source": [
    "while node:\n",
    "    print(node.data)\n",
    "    node = node.next"
   ]
  },
  {
   "cell_type": "code",
   "execution_count": 69,
   "metadata": {},
   "outputs": [],
   "source": [
    "# Much better. But, but, but shouldn't the next_node method be in LinkedList class? How to do that?"
   ]
  },
  {
   "cell_type": "code",
   "execution_count": 83,
   "metadata": {},
   "outputs": [],
   "source": [
    "class Node:\n",
    "    def __init__(self, data = None):\n",
    "        self.data = data \n",
    "        self.next = None\n",
    "    \n",
    "    \n",
    "\n",
    "class LinkedList:\n",
    "    def __init__(self):\n",
    "        self.head = None\n",
    "        self.end = None # we will store the end node here\n",
    "    \n",
    "    def add_node(self, value):\n",
    "        new_node = Node(value)\n",
    "        if self.head:\n",
    "            self.end.next = new_node\n",
    "        else:\n",
    "            self.head = new_node\n",
    "        self.end = new_node # we update the end node here\n",
    "        \n",
    "    def print_elements(self):\n",
    "        current = self.head\n",
    "        while current:\n",
    "            print(current.data)\n",
    "            current = current.next\n",
    "            \n",
    "    def get_head_node(self):\n",
    "        return self.head # fetch the head node\n",
    "    \n",
    "    def next_node(self, node : Node):\n",
    "        return node.next\n",
    "    "
   ]
  },
  {
   "cell_type": "code",
   "execution_count": 89,
   "metadata": {},
   "outputs": [
    {
     "name": "stdout",
     "output_type": "stream",
     "text": [
      "1\n",
      "2\n",
      "3\n",
      "4\n"
     ]
    }
   ],
   "source": [
    "linked_list.print_elements()"
   ]
  },
  {
   "cell_type": "code",
   "execution_count": 91,
   "metadata": {},
   "outputs": [
    {
     "data": {
      "text/plain": [
       "1"
      ]
     },
     "execution_count": 91,
     "metadata": {},
     "output_type": "execute_result"
    }
   ],
   "source": [
    "node = linked_list.get_head_node()\n",
    "node.data"
   ]
  },
  {
   "cell_type": "code",
   "execution_count": 93,
   "metadata": {},
   "outputs": [
    {
     "data": {
      "text/plain": [
       "2"
      ]
     },
     "execution_count": 93,
     "metadata": {},
     "output_type": "execute_result"
    }
   ],
   "source": [
    "linked_list.next_node(node).data"
   ]
  },
  {
   "cell_type": "code",
   "execution_count": 94,
   "metadata": {},
   "outputs": [
    {
     "name": "stdout",
     "output_type": "stream",
     "text": [
      "1\n",
      "2\n",
      "3\n",
      "4\n"
     ]
    }
   ],
   "source": [
    "while node:\n",
    "    print(node.data)\n",
    "    node = linked_list.next_node(node)"
   ]
  },
  {
   "cell_type": "code",
   "execution_count": null,
   "metadata": {},
   "outputs": [],
   "source": []
  }
 ],
 "metadata": {
  "kernelspec": {
   "display_name": "Python 3",
   "language": "python",
   "name": "python3"
  },
  "language_info": {
   "codemirror_mode": {
    "name": "ipython",
    "version": 3
   },
   "file_extension": ".py",
   "mimetype": "text/x-python",
   "name": "python",
   "nbconvert_exporter": "python",
   "pygments_lexer": "ipython3",
   "version": "3.8.3"
  }
 },
 "nbformat": 4,
 "nbformat_minor": 4
}
