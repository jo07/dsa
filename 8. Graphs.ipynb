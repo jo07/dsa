{
 "cells": [
  {
   "cell_type": "markdown",
   "metadata": {},
   "source": [
    "# Graphs"
   ]
  },
  {
   "cell_type": "markdown",
   "metadata": {},
   "source": [
    "> Graph is the mother of all the linked list and trees. Linked list and trees have certain limitations for the connections they can have from one node to another but in graphs there are nodes and they can be connected to any number of any other node."
   ]
  },
  {
   "cell_type": "code",
   "execution_count": 3,
   "metadata": {},
   "outputs": [],
   "source": [
    "# Terminologies\n",
    "# Nodes/vertices : It holds the element or the data\n",
    "# Edges : That is the pointer or connection or link between nodes\n",
    "# Directed graph : Edges have direction. Think of one way roads. There is a road(Edges) from point A to B doesn't  \n",
    "#                  mean you can travel from B to A. There might be some other route for it.\n",
    "# Undirected graph : Think of facebook friends. Your facebook friend has you as their facebook friend too. Direction\n",
    "#                    doesn't matter"
   ]
  },
  {
   "cell_type": "code",
   "execution_count": null,
   "metadata": {},
   "outputs": [],
   "source": [
    "# How to implement the directional graph ? \n",
    "# Well most people use dictionary keys as vertices and their values will have a list of vertices whom they have a \n",
    "# connection to. Mind you, these are directed graphs. You might have hundreds of crushes and none of them might not\n",
    "# even know you. #ouch.\n",
    "# Some peeps use matrices. If there are N vertices the matrix is gonna be of the dimension N*N. And you can have 1's\n",
    "# and 0's as values. If a '1' is present at [4,5] then the 4th vertex have a connection to 5th vertex. If 5th have a\n",
    "# connection to 4th vertex then the value at [5,4] is also gonna be a '0'. I was testing you. It's going to be '1'\n",
    "\n",
    "# PS If we are using weighted graphs like in case of maps where each node is a place and a connection is a road \n",
    "# between places then "
   ]
  }
 ],
 "metadata": {
  "kernelspec": {
   "display_name": "Python 3",
   "language": "python",
   "name": "python3"
  },
  "language_info": {
   "codemirror_mode": {
    "name": "ipython",
    "version": 3
   },
   "file_extension": ".py",
   "mimetype": "text/x-python",
   "name": "python",
   "nbconvert_exporter": "python",
   "pygments_lexer": "ipython3",
   "version": "3.8.3"
  }
 },
 "nbformat": 4,
 "nbformat_minor": 4
}
