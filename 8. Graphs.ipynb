{
 "cells": [
  {
   "cell_type": "markdown",
   "metadata": {},
   "source": [
    "# Graphs"
   ]
  },
  {
   "cell_type": "markdown",
   "metadata": {},
   "source": [
    "> Graph is the mother of all the linked list and trees. Linked list and trees have certain limitations for the connections they can have from one node to another but in graphs there are nodes and they can be connected to any number of any other node."
   ]
  },
  {
   "cell_type": "code",
   "execution_count": 3,
   "metadata": {},
   "outputs": [],
   "source": [
    "# Terminologies\n",
    "# Nodes/vertices : It holds the element or the data\n",
    "# Edges : That is the pointer or connection or link between nodes\n",
    "# Directed graph : Edges have direction. Think of one way roads. There is a road(Edges) from point A to B doesn't  \n",
    "#                  mean you can travel from B to A. There might be some other route for it.\n",
    "# Undirected graph : Think of facebook friends. Your facebook friend has you as their facebook friend too. Direction\n",
    "#                    doesn't matter"
   ]
  },
  {
   "cell_type": "code",
   "execution_count": 4,
   "metadata": {},
   "outputs": [],
   "source": [
    "# How to implement the directional graph ? \n",
    "# Well most people use dictionary keys as vertices and their values will have a list of vertices whom they have a \n",
    "# connection to. Mind you, these are directed graphs. You might have hundreds of crushes and none of them might not\n",
    "# even know you. #ouch.\n",
    "# Some peeps use matrices. If there are N vertices the matrix is gonna be of the dimension N*N. And you can have 1's\n",
    "# and 0's as values. If a '1' is present at [4,5] then the 4th vertex have a connection to 5th vertex. If 5th have a\n",
    "# connection to 4th vertex then the value at [5,4] is also gonna be a '0'. I was testing you. It's going to be '1'\n",
    "\n",
    "# P.S. If we are using weighted graphs like in case of maps where each node is a place and a connection is a road \n",
    "# between places then the matrix will have weights as values in it. Pretty neat."
   ]
  },
  {
   "cell_type": "code",
   "execution_count": 9,
   "metadata": {},
   "outputs": [],
   "source": [
    "# Implementation\n",
    "# Methods\n",
    "# Initialization\n",
    "# 1. Insert a node/vertex\n",
    "# 2. Insert an edge\n",
    "# We don't have to add an island( without any neigbhours or links to other vertices) so we can do method 1 & 2 \n",
    "# together in a single function.\n",
    "# 1 & 2. Add edge\n",
    "\n",
    "class Graph:\n",
    "    def __init__(self, graph_dict = {}):\n",
    "        # initializing with a dict if available\n",
    "        self.graph_dict = graph_dict\n",
    "        \n",
    "    def addEdge(self, node, neighbour):\n",
    "        # Adds an edge in the graph.\n",
    "        # Inputs\n",
    "        #     node : Who gets a new neighbhour\n",
    "        #     neighbour : The new neighbour\n",
    "        # Checks if the node already exists, creates one and add it's only neighbour which is the new neighbhour\n",
    "        # If the node already exists, then it already has some neighbours, we we just append the new neigbhour to the list\n",
    "        if node not in self.graph_dict:\n",
    "            self.graph_dict[node] = [neighbour]\n",
    "        else:\n",
    "            self.graph_dict[node].append(neighbour)\n",
    "        "
   ]
  },
  {
   "cell_type": "code",
   "execution_count": 10,
   "metadata": {},
   "outputs": [],
   "source": [
    "# Let's test it as we go\n",
    "graph = Graph()\n",
    "graph.addEdge(\"a\", \"b\")"
   ]
  },
  {
   "cell_type": "code",
   "execution_count": 11,
   "metadata": {},
   "outputs": [
    {
     "data": {
      "text/plain": [
       "{'a': ['b']}"
      ]
     },
     "execution_count": 11,
     "metadata": {},
     "output_type": "execute_result"
    }
   ],
   "source": [
    "graph.graph_dict"
   ]
  },
  {
   "cell_type": "code",
   "execution_count": 12,
   "metadata": {},
   "outputs": [
    {
     "data": {
      "text/plain": [
       "{'a': ['b', 'c']}"
      ]
     },
     "execution_count": 12,
     "metadata": {},
     "output_type": "execute_result"
    }
   ],
   "source": [
    "graph.addEdge(\"a\", \"c\")\n",
    "graph.graph_dict"
   ]
  },
  {
   "cell_type": "code",
   "execution_count": 13,
   "metadata": {},
   "outputs": [
    {
     "data": {
      "text/plain": [
       "{'a': ['b', 'c'], 'b': ['c', 'c']}"
      ]
     },
     "execution_count": 13,
     "metadata": {},
     "output_type": "execute_result"
    }
   ],
   "source": [
    "graph.addEdge(\"b\", \"c\")\n",
    "graph.addEdge(\"b\", \"c\")\n",
    "graph.graph_dict"
   ]
  },
  {
   "cell_type": "code",
   "execution_count": 14,
   "metadata": {},
   "outputs": [],
   "source": [
    "# Okay so the operation is not idempotent. Let's make it though"
   ]
  },
  {
   "cell_type": "code",
   "execution_count": 29,
   "metadata": {},
   "outputs": [],
   "source": [
    "# Implementation\n",
    "# Methods\n",
    "# Initialization\n",
    "# 1. Insert a node/vertex\n",
    "# 2. Insert an edge\n",
    "# We don't have to add an island( without any neigbhours or links to other vertices) so we can do method 1 & 2 \n",
    "# together in a single function.\n",
    "# 1 & 2. Add edge. Make it idempotent\n",
    "# 3. Get all neighbours\n",
    "\n",
    "class Graph:\n",
    "    def __init__(self, graph_dict = {}):\n",
    "        # initializing with a dict if available\n",
    "        self.graph_dict = graph_dict\n",
    "        \n",
    "    def addEdge(self, node, neighbour):\n",
    "        # Adds an edge in the graph.\n",
    "        # Inputs\n",
    "        #     node : Who gets a new neighbhour\n",
    "        #     neighbour : The new neighbour\n",
    "        # Checks if the node already exists, creates one and add it's only neighbour which is the new neighbhour\n",
    "        # If the node already exists, then it already has some neighbours, we we just append the new neigbhour to the list\n",
    "        if node not in self.graph_dict:\n",
    "            self.graph_dict[node] = [neighbour]\n",
    "        else:\n",
    "            neighbours = self.getNeighbours(node)\n",
    "            if neighbour not in neighbours:\n",
    "                self.graph_dict[node].append(neighbour)\n",
    "        \n",
    "    def getNeighbours(self, node):\n",
    "        if node not in self.graph_dict:\n",
    "            return None\n",
    "        return self.graph_dict[node]\n",
    "        "
   ]
  },
  {
   "cell_type": "code",
   "execution_count": 30,
   "metadata": {},
   "outputs": [],
   "source": [
    "# Test getNeighbours\n",
    "graph = Graph()\n",
    "graph.addEdge(\"a\", \"b\")\n"
   ]
  },
  {
   "cell_type": "code",
   "execution_count": 31,
   "metadata": {},
   "outputs": [
    {
     "data": {
      "text/plain": [
       "['b']"
      ]
     },
     "execution_count": 31,
     "metadata": {},
     "output_type": "execute_result"
    }
   ],
   "source": [
    "graph.getNeighbours(\"a\")"
   ]
  },
  {
   "cell_type": "code",
   "execution_count": 32,
   "metadata": {},
   "outputs": [],
   "source": [
    "graph.getNeighbours(\"b\")"
   ]
  },
  {
   "cell_type": "code",
   "execution_count": 33,
   "metadata": {},
   "outputs": [
    {
     "data": {
      "text/plain": [
       "['b']"
      ]
     },
     "execution_count": 33,
     "metadata": {},
     "output_type": "execute_result"
    }
   ],
   "source": [
    "# Cool back to idempotent addEdge testing\n",
    "graph.addEdge(\"a\", \"b\")\n",
    "graph.addEdge(\"a\", \"b\")\n",
    "graph.addEdge(\"a\", \"b\")\n",
    "graph.getNeighbours(\"a\")"
   ]
  },
  {
   "cell_type": "code",
   "execution_count": 34,
   "metadata": {},
   "outputs": [],
   "source": [
    "# That's cool and all but graphs are about paths. From a point to another. Maps are implemented using graphs. Duh!\n",
    "# First we need to go through two basic graph algorithms for traversing. Breadth first search (BFS) and Depth first\n",
    "# search"
   ]
  },
  {
   "cell_type": "markdown",
   "metadata": {},
   "source": [
    "### BFS"
   ]
  },
  {
   "cell_type": "markdown",
   "metadata": {},
   "source": [
    "> BFS : As the name suggests, goes wide accross each level from top to bottom. Okay name doesn't suggest all that. But that's what it do. Traverse the root node and it's children from left to right and then traverse their children in the next level from left to right. "
   ]
  },
  {
   "cell_type": "code",
   "execution_count": 37,
   "metadata": {},
   "outputs": [],
   "source": [
    "# To traverse like that we need to add the root node to a queue, also keep a track of all the nodes already visited.\n",
    "# We don't want to visit the same node again. So we have a dict which keeps track of all the nodes that we have visited\n",
    "# Why a dict? Cause it has almost O(1) (constant) time complexity for accessing elements\n",
    "# Back to the queue. We pop out the first element from the start and traverse it. Also add their neigbhours to the end\n",
    "# of the queue to be traversed later. So the nodes neigbhours have to wait till all the nodes in the previous node's \n",
    "# neighbour level has been traversed.\n",
    "# If you didn't get it, worry, cause the code is gonna be even less intuitive for you to visualize the traversing.\n",
    "# Anyway let's get started with BFS implementation"
   ]
  },
  {
   "cell_type": "code",
   "execution_count": 38,
   "metadata": {},
   "outputs": [],
   "source": [
    "# P.S. \n",
    "# If we were working with trees we wouldn't need to check if a node is visited cause it's a more restrictive form\n",
    "# of graph and you can only visit each node once if we follow the aforementioned guideline. But graphs are wild, they\n",
    "# could have cycles in them. A->B, B->C, C->A. \n",
    "# If that was the graph and we didn't keep track of the nodes we visited, we will be visiting them in an infinite loop\n",
    "# And nobody likes them"
   ]
  },
  {
   "cell_type": "code",
   "execution_count": 44,
   "metadata": {},
   "outputs": [],
   "source": [
    "# Implementation\n",
    "# Methods\n",
    "# Initialization\n",
    "# 1. Insert a node/vertex\n",
    "# 2. Insert an edge\n",
    "# We don't have to add an island( without any neigbhours or links to other vertices) so we can do method 1 & 2 \n",
    "# together in a single function.\n",
    "# 1 & 2. Add edge. Make it idempotent\n",
    "# 3. Get all neighbours\n",
    "# 4. BFS\n",
    "\n",
    "class Graph:\n",
    "    def __init__(self, graph_dict = {}):\n",
    "        # initializing with a dict if available\n",
    "        self.graph_dict = graph_dict\n",
    "        \n",
    "    def addEdge(self, node, neighbour):\n",
    "        # Adds an edge in the graph.\n",
    "        # Inputs\n",
    "        #     node : Who gets a new neighbhour\n",
    "        #     neighbour : The new neighbour\n",
    "        # Checks if the node already exists, creates one and add it's only neighbour which is the new neighbhour\n",
    "        # If the node already exists, then it already has some neighbours, we we just append the new neigbhour to the list\n",
    "        if node not in self.graph_dict:\n",
    "            self.graph_dict[node] = [neighbour]\n",
    "        else:\n",
    "            neighbours = self.getNeighbours(node)\n",
    "            if neighbour not in neighbours:\n",
    "                self.graph_dict[node].append(neighbour)\n",
    "        \n",
    "    def getNeighbours(self, node):\n",
    "        # Input\n",
    "        # node : whose neighbours we need to find\n",
    "        # Output\n",
    "        # List of it's neighbouring nodes or None if the node doesn't exists\n",
    "        if node not in self.graph_dict:\n",
    "            # If that node doesn't exist, return None\n",
    "            return None\n",
    "        # If the node is present in the graph, return its values. Should be a list\n",
    "        return self.graph_dict[node]\n",
    "    \n",
    "    def BFS(self, start):\n",
    "        # Input\n",
    "        # start : Start node, we start traversing from there then it's neighbour and then neighbours neighbour\n",
    "        # Output\n",
    "        # print all the nodes breadth first.\n",
    "        \n",
    "        # Initialized the dict to keep track of the nodes visited as false since we are yet to start\n",
    "        visited = {}\n",
    "        for node in self.graph_dict:\n",
    "            visited[node] = False\n",
    "        # Will be using a queue data structure to keep track of all the nodes to be traversed in FIFO. \n",
    "        # Since we are gonna start with the start node, we are gonna put that node in the queue first\n",
    "        queue = [start]\n",
    "        # We are gonna traverse till we have no new element to add to the queue and all the elements in the queue\n",
    "        # is visited once\n",
    "        \n",
    "        # set item to visited\n",
    "        visited[start] = True\n",
    "        while len(queue):\n",
    "            # popping the first element (FIFO)\n",
    "            item = queue.pop(0)\n",
    "            neighbours = self.getNeighbours(item)\n",
    "            for node in neighbours:\n",
    "                # if we haven't visited yet then add them to the queue\n",
    "                if not visited[node]:\n",
    "                    # If we see a new node that's not been visited before let's add that to the queue\n",
    "                    queue.append(node)\n",
    "                    # Since that went to queue we know it's gonna be visited soon. So let's be proactive and mark it\n",
    "                    visited[node] = True\n",
    "            # We are just printing the element, that's what traversing means in this case\n",
    "            print(item, end = \" \")\n",
    "        \n",
    "        "
   ]
  },
  {
   "cell_type": "code",
   "execution_count": 45,
   "metadata": {},
   "outputs": [
    {
     "name": "stdout",
     "output_type": "stream",
     "text": [
      "a b c "
     ]
    }
   ],
   "source": [
    "# Test BFS\n",
    "graph = Graph()\n",
    "graph.addEdge(\"a\", \"b\")\n",
    "graph.addEdge(\"a\", \"c\")\n",
    "graph.addEdge(\"c\", \"b\")\n",
    "graph.addEdge(\"b\", \"c\")\n",
    "graph.BFS(\"a\")"
   ]
  },
  {
   "cell_type": "code",
   "execution_count": 49,
   "metadata": {},
   "outputs": [],
   "source": [
    "# That's about right. Yaay.\n",
    "# Let's also get it done with DFS"
   ]
  },
  {
   "cell_type": "markdown",
   "metadata": {},
   "source": [
    "### DFS"
   ]
  },
  {
   "cell_type": "markdown",
   "metadata": {},
   "source": [
    "> DFS : In depth first search or traversal we go to the first deepest node first, some leaf node. Then we see there is no further we can go, so we backtrack or go back a step. Till we find a new node that we haven't visited yet and go deep in to the rabbit hole that node leads to. We keep on doing that till we have covered all the nodes available"
   ]
  },
  {
   "cell_type": "code",
   "execution_count": 50,
   "metadata": {},
   "outputs": [],
   "source": [
    "# Here also we need to keep track of the nodes that we have already visited. We can implement DFS using stacks or \n",
    "# using recursive functions"
   ]
  },
  {
   "cell_type": "code",
   "execution_count": 64,
   "metadata": {},
   "outputs": [],
   "source": [
    "# Implementation\n",
    "# Methods\n",
    "# Initialization\n",
    "# 1. Insert a node/vertex\n",
    "# 2. Insert an edge\n",
    "# We don't have to add an island( without any neigbhours or links to other vertices) so we can do method 1 & 2 \n",
    "# together in a single function.\n",
    "# 1 & 2. Add edge. Make it idempotent\n",
    "# 3. Get all neighbours\n",
    "# 4. BFS\n",
    "# 5. DFS\n",
    "\n",
    "class Graph:\n",
    "    def __init__(self, graph_dict = {}):\n",
    "        # initializing with a dict if available\n",
    "        self.graph_dict = graph_dict\n",
    "        \n",
    "    def addEdge(self, node, neighbour):\n",
    "        # Adds an edge in the graph.\n",
    "        # Inputs\n",
    "        #     node : Who gets a new neighbhour\n",
    "        #     neighbour : The new neighbour\n",
    "        # Checks if the node already exists, creates one and add it's only neighbour which is the new neighbhour\n",
    "        # If the node already exists, then it already has some neighbours, we we just append the new neigbhour to the list\n",
    "        if node not in self.graph_dict:\n",
    "            self.graph_dict[node] = [neighbour]\n",
    "        else:\n",
    "            neighbours = self.getNeighbours(node)\n",
    "            if neighbour not in neighbours:\n",
    "                self.graph_dict[node].append(neighbour)\n",
    "                \n",
    "        # check if neighbour is a node in the graph dict, if not add it to the dict with default value []\n",
    "        if neighbour not in self.graph_dict:\n",
    "            self.graph_dict[neighbour] = []\n",
    "        \n",
    "    def getNeighbours(self, node):\n",
    "        # Input\n",
    "        # node : whose neighbours we need to find\n",
    "        # Output\n",
    "        # List of it's neighbouring nodes or None if the node doesn't exists\n",
    "        if node not in self.graph_dict:\n",
    "            # If that node doesn't exist, return None\n",
    "            return None\n",
    "        # If the node is present in the graph, return its values. Should be a list\n",
    "        return self.graph_dict[node]\n",
    "    \n",
    "    def BFS(self, start):\n",
    "        # Input\n",
    "        # start : Start node, we start traversing from there then it's neighbour and then neighbours neighbour\n",
    "        # Output\n",
    "        # print all the nodes breadth first.\n",
    "        \n",
    "        # Initialized the dict to keep track of the nodes visited as false since we are yet to start\n",
    "        visited = {}\n",
    "        for node in self.graph_dict:\n",
    "            visited[node] = False\n",
    "        # Will be using a queue data structure to keep track of all the nodes to be traversed in FIFO. \n",
    "        # Since we are gonna start with the start node, we are gonna put that node in the queue first\n",
    "        queue = [start]\n",
    "        # We are gonna traverse till we have no new element to add to the queue and all the elements in the queue\n",
    "        # is visited once\n",
    "        \n",
    "        # set item to visited\n",
    "        visited[start] = True\n",
    "        while len(queue):\n",
    "            # popping the first element (FIFO)\n",
    "            item = queue.pop(0)\n",
    "            neighbours = self.getNeighbours(item)\n",
    "            for node in neighbours:\n",
    "                # if we haven't visited yet then add them to the queue\n",
    "                if not visited[node]:\n",
    "                    # If we see a new node that's not been visited before let's add that to the queue\n",
    "                    queue.append(node)\n",
    "                    # Since that went to queue we know it's gonna be visited soon. So let's be proactive and mark it\n",
    "                    visited[node] = True\n",
    "            # We are just printing the element, that's what traversing means in this case\n",
    "            print(item, end = \" \")\n",
    "        \n",
    "    def DFS(self, start):\n",
    "        # Input: \n",
    "        # start : node to start the traversal from\n",
    "        # Output\n",
    "        # print all the nodes of the graph in depth first manner\n",
    "        \n",
    "        # Set visited as false for all the nodes\n",
    "        visited = { node: False for node in self.graph_dict}\n",
    "        # We will use a stack. Last in first out. LIFO\n",
    "        stack = [start]\n",
    "        # set start as visited\n",
    "        visited[start] = True\n",
    "        while len(stack):\n",
    "            # Pop last item on the stack\n",
    "            item = stack.pop()\n",
    "            for node in self.getNeighbours(item):\n",
    "                if not visited[node]:\n",
    "                    stack.append(node)\n",
    "                    visited[node] = True\n",
    "            print(item, end = \" \")\n",
    "            "
   ]
  },
  {
   "cell_type": "code",
   "execution_count": 71,
   "metadata": {},
   "outputs": [],
   "source": [
    "# Testing DFS\n",
    "graph = Graph()\n",
    "graph.addEdge(\"a\", \"b\")\n",
    "graph.addEdge(\"a\", \"c\")\n",
    "graph.addEdge(\"c\", \"b\")\n",
    "graph.addEdge(\"b\", \"c\")\n",
    "graph.addEdge(\"c\", \"d\")"
   ]
  },
  {
   "cell_type": "code",
   "execution_count": 72,
   "metadata": {},
   "outputs": [
    {
     "data": {
      "text/plain": [
       "{'a': ['b', 'c'], 'b': ['c'], 'c': ['b', 'd'], 'd': []}"
      ]
     },
     "execution_count": 72,
     "metadata": {},
     "output_type": "execute_result"
    }
   ],
   "source": [
    "graph.graph_dict"
   ]
  },
  {
   "cell_type": "code",
   "execution_count": 67,
   "metadata": {},
   "outputs": [
    {
     "name": "stdout",
     "output_type": "stream",
     "text": [
      "a c d b "
     ]
    }
   ],
   "source": [
    "graph.DFS(\"a\")"
   ]
  },
  {
   "cell_type": "code",
   "execution_count": 68,
   "metadata": {},
   "outputs": [],
   "source": [
    "# Wohooo!!!"
   ]
  },
  {
   "cell_type": "code",
   "execution_count": 69,
   "metadata": {},
   "outputs": [],
   "source": [
    "# There is more fun with graphs. Let's find all the path between two nodes"
   ]
  },
  {
   "cell_type": "markdown",
   "metadata": {},
   "source": [
    "### Find all paths"
   ]
  },
  {
   "cell_type": "code",
   "execution_count": 70,
   "metadata": {},
   "outputs": [],
   "source": [
    "# Implementation\n",
    "# Methods\n",
    "# Initialization\n",
    "# 1. Insert a node/vertex\n",
    "# 2. Insert an edge\n",
    "# We don't have to add an island( without any neigbhours or links to other vertices) so we can do method 1 & 2 \n",
    "# together in a single function.\n",
    "# 1 & 2. Add edge. Make it idempotent\n",
    "# 3. Get all neighbours\n",
    "# 4. BFS\n",
    "# 5. DFS\n",
    "\n",
    "class Graph:\n",
    "    def __init__(self, graph_dict = {}):\n",
    "        # initializing with a dict if available\n",
    "        self.graph_dict = graph_dict\n",
    "        \n",
    "    def addEdge(self, node, neighbour):\n",
    "        # Adds an edge in the graph.\n",
    "        # Inputs\n",
    "        #     node : Who gets a new neighbhour\n",
    "        #     neighbour : The new neighbour\n",
    "        # Checks if the node already exists, creates one and add it's only neighbour which is the new neighbhour\n",
    "        # If the node already exists, then it already has some neighbours, we we just append the new neigbhour to the list\n",
    "        if node not in self.graph_dict:\n",
    "            self.graph_dict[node] = [neighbour]\n",
    "        else:\n",
    "            neighbours = self.getNeighbours(node)\n",
    "            if neighbour not in neighbours:\n",
    "                self.graph_dict[node].append(neighbour)\n",
    "                \n",
    "        # check if neighbour is a node in the graph dict, if not add it to the dict with default value []\n",
    "        if neighbour not in self.graph_dict:\n",
    "            self.graph_dict[neighbour] = []\n",
    "        \n",
    "    def getNeighbours(self, node):\n",
    "        # Input\n",
    "        # node : whose neighbours we need to find\n",
    "        # Output\n",
    "        # List of it's neighbouring nodes or None if the node doesn't exists\n",
    "        if node not in self.graph_dict:\n",
    "            # If that node doesn't exist, return None\n",
    "            return None\n",
    "        # If the node is present in the graph, return its values. Should be a list\n",
    "        return self.graph_dict[node]\n",
    "    \n",
    "    def BFS(self, start):\n",
    "        # Input\n",
    "        # start : Start node, we start traversing from there then it's neighbour and then neighbours neighbour\n",
    "        # Output\n",
    "        # print all the nodes breadth first.\n",
    "        \n",
    "        # Initialized the dict to keep track of the nodes visited as false since we are yet to start\n",
    "        visited = {}\n",
    "        for node in self.graph_dict:\n",
    "            visited[node] = False\n",
    "        # Will be using a queue data structure to keep track of all the nodes to be traversed in FIFO. \n",
    "        # Since we are gonna start with the start node, we are gonna put that node in the queue first\n",
    "        queue = [start]\n",
    "        # We are gonna traverse till we have no new element to add to the queue and all the elements in the queue\n",
    "        # is visited once\n",
    "        \n",
    "        # set item to visited\n",
    "        visited[start] = True\n",
    "        while len(queue):\n",
    "            # popping the first element (FIFO)\n",
    "            item = queue.pop(0)\n",
    "            neighbours = self.getNeighbours(item)\n",
    "            for node in neighbours:\n",
    "                # if we haven't visited yet then add them to the queue\n",
    "                if not visited[node]:\n",
    "                    # If we see a new node that's not been visited before let's add that to the queue\n",
    "                    queue.append(node)\n",
    "                    # Since that went to queue we know it's gonna be visited soon. So let's be proactive and mark it\n",
    "                    visited[node] = True\n",
    "            # We are just printing the element, that's what traversing means in this case\n",
    "            print(item, end = \" \")\n",
    "        \n",
    "    def DFS(self, start):\n",
    "        # Traverse the graph in a depth first manner\n",
    "        # Input: \n",
    "        # start : node to start the traversal from\n",
    "        # Output\n",
    "        # print all the nodes of the graph in depth first manner\n",
    "        \n",
    "        # Set visited as false for all the nodes\n",
    "        visited = { node: False for node in self.graph_dict}\n",
    "        # We will use a stack. Last in first out. LIFO\n",
    "        stack = [start]\n",
    "        # set start as visited\n",
    "        visited[start] = True\n",
    "        while len(stack):\n",
    "            # Pop last item on the stack\n",
    "            item = stack.pop()\n",
    "            for node in self.getNeighbours(item):\n",
    "                if not visited[node]:\n",
    "                    stack.append(node)\n",
    "                    visited[node] = True\n",
    "            print(item, end = \" \")\n",
    "    \n",
    "    def get_all_paths(self, start, end, path =[]):\n",
    "        # Find all the paths between the start and end node\n",
    "        # Input\n",
    "        # start : the start node\n",
    "        # end : the end node\n",
    "        # path : don't worry about it, the recursive function is gonna populate it. I'll explain, calm down\n",
    "        # Output\n",
    "        # List of all possible paths. Path is also a list of nodes from start till end. So we are gonna have a list\n",
    "        # of lists as the output\n",
    "        \n",
    "        # First we need to create a path. The parameter path, initialized as an empty list, is where we gonna build \n",
    "        # those paths\n",
    "        path = path + [start]\n",
    "        \n",
    "        # Now if we have reached from start to end then the start and end node would be the same. Let's check that\n",
    "        if start == end:\n",
    "            # We got a path. Let's return it in a list. \n",
    "            return [path]\n",
    "        \n",
    "        # If we reach here it means we haven't found that path yet and we need to start building that list of lists\n",
    "        paths = []\n",
    "        \n",
    "        for node in self.graph_dict[start]:\n",
    "            # We are gonna look at all it's neighbours one by one for the path\n",
    "            if node not in path:\n",
    "                # if that node is already in the path we don't need to go down that route, cause we will end up\n",
    "                # in the same place. #CyclicGraphs.\n",
    "                # If this is a new node then we will find all the paths from this node till the end node cause we know\n",
    "                # there is already a path from the start node till this node. \n",
    "                # Now we pass the already traversed path from start node to this node in the path param.\n",
    "                # Told you I would explain it.\n",
    "                \n",
    "                # Next line is recursive\n",
    "                newpaths = self.get_all_paths(node, end, path)\n",
    "                # We need to add each of these new path to our paths variable now. And that variable is the paths \n",
    "                # defined in the caller function. So now we can use the append method \n",
    "                for newpath in newpaths:\n",
    "                    paths.append(newpath)\n",
    "        \n",
    "        # After everything is done and said we return the list of paths\n",
    "        return paths\n",
    "                \n",
    "        \n",
    "        "
   ]
  },
  {
   "cell_type": "code",
   "execution_count": 75,
   "metadata": {},
   "outputs": [
    {
     "data": {
      "text/plain": [
       "[['a', 'b', 'c', 'd'],\n",
       " ['a', 'b', 'e', 'd'],\n",
       " ['a', 'b', 'e', 'f', 'd'],\n",
       " ['a', 'c', 'b', 'e', 'd'],\n",
       " ['a', 'c', 'b', 'e', 'f', 'd'],\n",
       " ['a', 'c', 'd'],\n",
       " ['a', 'f', 'd']]"
      ]
     },
     "execution_count": 75,
     "metadata": {},
     "output_type": "execute_result"
    }
   ],
   "source": [
    "# Testing Find all paths\n",
    "graph = Graph()\n",
    "graph.addEdge(\"a\", \"b\")\n",
    "graph.addEdge(\"a\", \"c\")\n",
    "graph.addEdge(\"c\", \"b\")\n",
    "graph.addEdge(\"b\", \"c\")\n",
    "graph.addEdge(\"c\", \"d\")\n",
    "graph.addEdge(\"b\", \"e\")\n",
    "graph.addEdge(\"e\", \"d\")\n",
    "graph.addEdge(\"a\", \"f\")\n",
    "graph.addEdge(\"f\", \"d\")\n",
    "graph.addEdge(\"e\", \"f\")\n",
    "graph.get_all_paths(\"a\", \"d\")"
   ]
  },
  {
   "cell_type": "code",
   "execution_count": 76,
   "metadata": {},
   "outputs": [
    {
     "data": {
      "text/plain": [
       "[['b', 'e', 'f']]"
      ]
     },
     "execution_count": 76,
     "metadata": {},
     "output_type": "execute_result"
    }
   ],
   "source": [
    "graph.get_all_paths(\"b\", \"f\")"
   ]
  },
  {
   "cell_type": "code",
   "execution_count": null,
   "metadata": {},
   "outputs": [],
   "source": [
    "# Nice"
   ]
  }
 ],
 "metadata": {
  "kernelspec": {
   "display_name": "Python 3",
   "language": "python",
   "name": "python3"
  },
  "language_info": {
   "codemirror_mode": {
    "name": "ipython",
    "version": 3
   },
   "file_extension": ".py",
   "mimetype": "text/x-python",
   "name": "python",
   "nbconvert_exporter": "python",
   "pygments_lexer": "ipython3",
   "version": "3.8.3"
  }
 },
 "nbformat": 4,
 "nbformat_minor": 4
}
