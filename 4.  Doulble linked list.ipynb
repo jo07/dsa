{
 "cells": [
  {
   "cell_type": "markdown",
   "metadata": {},
   "source": [
    "# Doulble linked list"
   ]
  },
  {
   "cell_type": "markdown",
   "metadata": {},
   "source": [
    "> Linked list have few drawbacks which double linked list(DLL) tries to solve while adding bit more complexity. <br> \n",
    "Linked list are hard to traverse back. We can only travers forward efficiently <br>\n",
    "To solve this we add another pointer to the node. Apart from pointing to the next node, DLL has a pointer to the previous node. On the brighter side, that makes deleting a node easier, since we don't need to keep track of the previous node while traversing since we have a pointer to the previous node. That's cool."
   ]
  },
  {
   "cell_type": "markdown",
   "metadata": {},
   "source": [
    "### Implementation"
   ]
  },
  {
   "cell_type": "code",
   "execution_count": 1,
   "metadata": {},
   "outputs": [],
   "source": [
    "# So there is an update on the node class, a pointer to the previous node\n",
    "class Node:\n",
    "    def __init__(self, data = None):\n",
    "        self.data = data \n",
    "        self.next = None\n",
    "        self.prev = None"
   ]
  },
  {
   "cell_type": "code",
   "execution_count": 14,
   "metadata": {},
   "outputs": [],
   "source": [
    "# DLL class is gonna look very different from the linked_List class\n",
    "# So let's define the methods we need first\n",
    "# 1. Append a node at the end, given a value\n",
    "# 2. Insert a node, given a prev node\n",
    "# 3. Delete a node, given a value\n",
    "# 4. Print all the elements\n",
    "# Let the fun begin\n"
   ]
  },
  {
   "cell_type": "code",
   "execution_count": 3,
   "metadata": {},
   "outputs": [],
   "source": [
    "# 1. Append a node at the end\n",
    "class DLL:\n",
    "    def __init__(self):\n",
    "        self.head = None\n",
    "        self.tail = None\n",
    "    \n",
    "    def append_node(self, value):\n",
    "        new_node = Node(value)\n",
    "        # if DLL is empty\n",
    "        if self.head is None:\n",
    "            self.head = new_node\n",
    "            self.tail = new_node\n",
    "        else:\n",
    "            # get the current tail node\n",
    "            cur_tail_node = self.tail\n",
    "            # update the tail node with the new node\n",
    "            self.tail = new_node\n",
    "            # set prev node of new node as the tail node\n",
    "            new_node.prev = cur_tail_node\n",
    "            # set the old tail node's next pointer to new tail node (new node)\n",
    "            cur_tail_node.next = new_node\n",
    "    "
   ]
  },
  {
   "cell_type": "code",
   "execution_count": 5,
   "metadata": {},
   "outputs": [
    {
     "data": {
      "text/plain": [
       "(True, True)"
      ]
     },
     "execution_count": 5,
     "metadata": {},
     "output_type": "execute_result"
    }
   ],
   "source": [
    "# Let's test it out\n",
    "dll = DLL()\n",
    "dll.head is None, dll.tail is None"
   ]
  },
  {
   "cell_type": "code",
   "execution_count": 6,
   "metadata": {},
   "outputs": [
    {
     "data": {
      "text/plain": [
       "(False, False)"
      ]
     },
     "execution_count": 6,
     "metadata": {},
     "output_type": "execute_result"
    }
   ],
   "source": [
    "dll.append_node(0)\n",
    "dll.head is None, dll.tail is None"
   ]
  },
  {
   "cell_type": "code",
   "execution_count": 7,
   "metadata": {},
   "outputs": [
    {
     "data": {
      "text/plain": [
       "(0, 0)"
      ]
     },
     "execution_count": 7,
     "metadata": {},
     "output_type": "execute_result"
    }
   ],
   "source": [
    "dll.head.data, dll.tail.data"
   ]
  },
  {
   "cell_type": "code",
   "execution_count": 12,
   "metadata": {},
   "outputs": [
    {
     "data": {
      "text/plain": [
       "(True, True, True, True)"
      ]
     },
     "execution_count": 12,
     "metadata": {},
     "output_type": "execute_result"
    }
   ],
   "source": [
    "dll.head.next is None, dll.head.prev is None, dll.tail.next is None, dll.tail.prev is None"
   ]
  },
  {
   "cell_type": "code",
   "execution_count": 13,
   "metadata": {},
   "outputs": [],
   "source": [
    "# Just as expected. Moving on to the next\n",
    "# 2. Insert a node"
   ]
  },
  {
   "cell_type": "code",
   "execution_count": null,
   "metadata": {},
   "outputs": [],
   "source": []
  }
 ],
 "metadata": {
  "kernelspec": {
   "display_name": "Python 3",
   "language": "python",
   "name": "python3"
  },
  "language_info": {
   "codemirror_mode": {
    "name": "ipython",
    "version": 3
   },
   "file_extension": ".py",
   "mimetype": "text/x-python",
   "name": "python",
   "nbconvert_exporter": "python",
   "pygments_lexer": "ipython3",
   "version": "3.8.3"
  }
 },
 "nbformat": 4,
 "nbformat_minor": 4
}
