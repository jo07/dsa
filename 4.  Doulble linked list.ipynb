{
 "cells": [
  {
   "cell_type": "markdown",
   "metadata": {},
   "source": [
    "# Doulble linked list"
   ]
  },
  {
   "cell_type": "markdown",
   "metadata": {},
   "source": [
    "> Linked list have few drawbacks which double linked list(DLL) tries to solve while becoming bit more sophisticated. <br> \n",
    "Linked list are hard to traverse back. We can only travers forward efficiently <br>\n",
    "To solve this we add another pointer to the node. Apart from pointing to the next node, DLL has a pointer to the previous node. On the brighter side, that makes deleting a node easier, since we don't need to keep track of the previous node while reverse traversing since we have a pointer to the previous node. That's cool. <br>\n",
    "But that also takes up a bit more memory to store this extra information ( XOR Linked list : \"Huh, that's silly\" )"
   ]
  },
  {
   "cell_type": "markdown",
   "metadata": {},
   "source": [
    "### Implementation"
   ]
  },
  {
   "cell_type": "code",
   "execution_count": 1,
   "metadata": {},
   "outputs": [],
   "source": [
    "# So there is an update on the node class, a pointer to the previous node\n",
    "class Node:\n",
    "    def __init__(self, data = None):\n",
    "        self.data = data \n",
    "        self.next = None\n",
    "        self.prev = None"
   ]
  },
  {
   "cell_type": "code",
   "execution_count": 48,
   "metadata": {},
   "outputs": [],
   "source": [
    "# DLL class is gonna look very different from the linked_List class\n",
    "# So let's define the methods we need first\n",
    "# 1. Append a node at the end, given a value\n",
    "# 2. Insert a node, given a prev node\n",
    "# 3. Delete a node, given a value\n",
    "# 4. Print all the elements, an efficient coder must know the true powers of ctrl, C, V keys used in combination\n",
    "# Let the fun begin"
   ]
  },
  {
   "cell_type": "code",
   "execution_count": 3,
   "metadata": {},
   "outputs": [],
   "source": [
    "# 1. Append a node at the end\n",
    "class DLL:\n",
    "    def __init__(self):\n",
    "        self.head = None\n",
    "        self.tail = None\n",
    "    \n",
    "    def append_node(self, value):\n",
    "        new_node = Node(value)\n",
    "        # if DLL is empty\n",
    "        if self.head is None:\n",
    "            self.head = new_node\n",
    "            self.tail = new_node\n",
    "        else:\n",
    "            # get the current tail node\n",
    "            cur_tail_node = self.tail\n",
    "            # update the tail node with the new node\n",
    "            self.tail = new_node\n",
    "            # set prev node of new node as the tail node\n",
    "            new_node.prev = cur_tail_node\n",
    "            # set the old tail node's next pointer to new tail node (new node)\n",
    "            cur_tail_node.next = new_node\n",
    "    "
   ]
  },
  {
   "cell_type": "code",
   "execution_count": 5,
   "metadata": {},
   "outputs": [
    {
     "data": {
      "text/plain": [
       "(True, True)"
      ]
     },
     "execution_count": 5,
     "metadata": {},
     "output_type": "execute_result"
    }
   ],
   "source": [
    "# Let's test it out\n",
    "dll = DLL()\n",
    "dll.head is None, dll.tail is None"
   ]
  },
  {
   "cell_type": "code",
   "execution_count": 6,
   "metadata": {},
   "outputs": [
    {
     "data": {
      "text/plain": [
       "(False, False)"
      ]
     },
     "execution_count": 6,
     "metadata": {},
     "output_type": "execute_result"
    }
   ],
   "source": [
    "dll.append_node(0)\n",
    "dll.head is None, dll.tail is None"
   ]
  },
  {
   "cell_type": "code",
   "execution_count": 7,
   "metadata": {},
   "outputs": [
    {
     "data": {
      "text/plain": [
       "(0, 0)"
      ]
     },
     "execution_count": 7,
     "metadata": {},
     "output_type": "execute_result"
    }
   ],
   "source": [
    "dll.head.data, dll.tail.data"
   ]
  },
  {
   "cell_type": "code",
   "execution_count": 12,
   "metadata": {},
   "outputs": [
    {
     "data": {
      "text/plain": [
       "(True, True, True, True)"
      ]
     },
     "execution_count": 12,
     "metadata": {},
     "output_type": "execute_result"
    }
   ],
   "source": [
    "dll.head.next is None, dll.head.prev is None, dll.tail.next is None, dll.tail.prev is None"
   ]
  },
  {
   "cell_type": "code",
   "execution_count": 25,
   "metadata": {},
   "outputs": [],
   "source": [
    "# Just as expected. Moving on to the next\n",
    "# 2. Insert a node, given a prev node\n",
    "# Cases\n",
    "#   a) Inserting at the head position, previous node would be None. Need to update the head\n",
    "#   b) Inserting at the end hence next node of the prev node would be None. So need to update the tail\n",
    "#   c) Insert in between nodes, meh\n",
    "\n",
    "class DLL:\n",
    "    def __init__(self):\n",
    "        self.head = None\n",
    "        self.tail = None\n",
    "        \n",
    "    def print_elements(self):\n",
    "        current = self.head\n",
    "        while current:\n",
    "            print(current.data)\n",
    "            current = current.next \n",
    "    \n",
    "    def append_node(self, value):\n",
    "        new_node = Node(value)\n",
    "        # if DLL is empty\n",
    "        if self.head is None:\n",
    "            self.head = new_node\n",
    "            self.tail = new_node\n",
    "        else:\n",
    "            # get the current tail node\n",
    "            cur_tail_node = self.tail\n",
    "            # update the tail node with the new node\n",
    "            self.tail = new_node\n",
    "            # set prev node of new node as the tail node\n",
    "            new_node.prev = cur_tail_node\n",
    "            # set the old tail node's next pointer to new tail node (new node)\n",
    "            cur_tail_node.next = new_node\n",
    "    def insert_node(self, value, prev_node: Node = None):\n",
    "        new_node = Node(value)\n",
    "        head_node = self.head\n",
    "        tail_node = self.tail\n",
    "        # if inserting at head\n",
    "        if prev_node is None:\n",
    "            # if empty DLL\n",
    "            if head_node is None:\n",
    "                self.head = new_node\n",
    "                self.tail = new_node\n",
    "            else:\n",
    "                self.head = new_node\n",
    "                new_node.next = head_node\n",
    "                head_node.prev = new_node\n",
    "        # if inserting at tail\n",
    "        elif prev_node.next is None:\n",
    "            prev_node.next = new_node\n",
    "            self.tail = new_node\n",
    "            new_node.prev = prev_node\n",
    "        # inserting in between nodes\n",
    "        else:\n",
    "            next_node = prev_node.next\n",
    "            prev_node.next = new_node\n",
    "            new_node.prev = prev_node\n",
    "            new_node.next = next_node\n",
    "            next_node.prev = new_node\n",
    "            # whoo ... breaking a two way relation is too much work. Let's test it out\n",
    "        "
   ]
  },
  {
   "cell_type": "code",
   "execution_count": 29,
   "metadata": {},
   "outputs": [
    {
     "name": "stdout",
     "output_type": "stream",
     "text": [
      "0\n"
     ]
    }
   ],
   "source": [
    "# Inserting in an empty dll\n",
    "dll = DLL()\n",
    "dll.insert_node(0)\n",
    "dll.print_elements()"
   ]
  },
  {
   "cell_type": "code",
   "execution_count": 30,
   "metadata": {},
   "outputs": [
    {
     "data": {
      "text/plain": [
       "(0, 0)"
      ]
     },
     "execution_count": 30,
     "metadata": {},
     "output_type": "execute_result"
    }
   ],
   "source": [
    "dll.head.data, dll.tail.data"
   ]
  },
  {
   "cell_type": "code",
   "execution_count": 31,
   "metadata": {},
   "outputs": [
    {
     "data": {
      "text/plain": [
       "(True, True, True, True)"
      ]
     },
     "execution_count": 31,
     "metadata": {},
     "output_type": "execute_result"
    }
   ],
   "source": [
    "dll.head.next is None, dll.head.prev is None, dll.tail.next is None, dll.tail.prev is None"
   ]
  },
  {
   "cell_type": "code",
   "execution_count": 32,
   "metadata": {},
   "outputs": [
    {
     "name": "stdout",
     "output_type": "stream",
     "text": [
      "-1\n",
      "0\n"
     ]
    }
   ],
   "source": [
    "# Inserting at head\n",
    "dll.insert_node(-1)\n",
    "dll.print_elements()"
   ]
  },
  {
   "cell_type": "code",
   "execution_count": 34,
   "metadata": {},
   "outputs": [
    {
     "data": {
      "text/plain": [
       "(-1, 0)"
      ]
     },
     "execution_count": 34,
     "metadata": {},
     "output_type": "execute_result"
    }
   ],
   "source": [
    "dll.head.data, dll.tail.data"
   ]
  },
  {
   "cell_type": "code",
   "execution_count": 35,
   "metadata": {},
   "outputs": [
    {
     "data": {
      "text/plain": [
       "(0, -1)"
      ]
     },
     "execution_count": 35,
     "metadata": {},
     "output_type": "execute_result"
    }
   ],
   "source": [
    "dll.head.next.data, dll.tail.prev.data"
   ]
  },
  {
   "cell_type": "code",
   "execution_count": 41,
   "metadata": {},
   "outputs": [
    {
     "data": {
      "text/plain": [
       "(True, True, True, True)"
      ]
     },
     "execution_count": 41,
     "metadata": {},
     "output_type": "execute_result"
    }
   ],
   "source": [
    "dll.head.next is not None, dll.head.prev is None, dll.tail.next is None, dll.tail.prev is not None"
   ]
  },
  {
   "cell_type": "code",
   "execution_count": 37,
   "metadata": {},
   "outputs": [
    {
     "data": {
      "text/plain": [
       "0"
      ]
     },
     "execution_count": 37,
     "metadata": {},
     "output_type": "execute_result"
    }
   ],
   "source": [
    "# Gooood. Fetching the tail\n",
    "tail_node = dll.tail\n",
    "tail_node.data"
   ]
  },
  {
   "cell_type": "code",
   "execution_count": 38,
   "metadata": {},
   "outputs": [
    {
     "name": "stdout",
     "output_type": "stream",
     "text": [
      "-1\n",
      "0\n",
      "1\n"
     ]
    }
   ],
   "source": [
    "dll.insert_node(1, tail_node)\n",
    "dll.print_elements()"
   ]
  },
  {
   "cell_type": "code",
   "execution_count": 39,
   "metadata": {},
   "outputs": [
    {
     "data": {
      "text/plain": [
       "(-1, 1)"
      ]
     },
     "execution_count": 39,
     "metadata": {},
     "output_type": "execute_result"
    }
   ],
   "source": [
    "dll.head.data, dll.tail.data"
   ]
  },
  {
   "cell_type": "code",
   "execution_count": 42,
   "metadata": {},
   "outputs": [
    {
     "data": {
      "text/plain": [
       "(True, True)"
      ]
     },
     "execution_count": 42,
     "metadata": {},
     "output_type": "execute_result"
    }
   ],
   "source": [
    "dll.tail.next is None, dll.tail.prev is not None"
   ]
  },
  {
   "cell_type": "code",
   "execution_count": 43,
   "metadata": {},
   "outputs": [
    {
     "data": {
      "text/plain": [
       "(0, 1)"
      ]
     },
     "execution_count": 43,
     "metadata": {},
     "output_type": "execute_result"
    }
   ],
   "source": [
    "dll.tail.prev.data, dll.tail.prev.next.data"
   ]
  },
  {
   "cell_type": "code",
   "execution_count": 45,
   "metadata": {},
   "outputs": [
    {
     "name": "stdout",
     "output_type": "stream",
     "text": [
      "-1\n",
      "0\n",
      "0.5\n",
      "1\n"
     ]
    }
   ],
   "source": [
    "# Good boii.  Let's insert something in between\n",
    "dll.insert_node(0.5, dll.head.next)\n",
    "dll.print_elements()"
   ]
  },
  {
   "cell_type": "code",
   "execution_count": 46,
   "metadata": {},
   "outputs": [
    {
     "data": {
      "text/plain": [
       "(-1, 1)"
      ]
     },
     "execution_count": 46,
     "metadata": {},
     "output_type": "execute_result"
    }
   ],
   "source": [
    "dll.head.data, dll.tail.data"
   ]
  },
  {
   "cell_type": "code",
   "execution_count": 47,
   "metadata": {},
   "outputs": [
    {
     "data": {
      "text/plain": [
       "(0, 1, 0.5, 0.5)"
      ]
     },
     "execution_count": 47,
     "metadata": {},
     "output_type": "execute_result"
    }
   ],
   "source": [
    "cur_node = dll.head.next.next\n",
    "cur_node.prev.data, cur_node.next.data, cur_node.prev.next.data, cur_node.next.prev.data"
   ]
  },
  {
   "cell_type": "code",
   "execution_count": 49,
   "metadata": {},
   "outputs": [],
   "source": [
    "# This looks easy. Am I missing out on any of the test cases or this is too easy?\n",
    "# Enough of the chit-chit. Let's move on\n",
    "# 3. Deleting a node, given a value. P.S. We delete only the first occurence of that value\n",
    "\n",
    "# Cases\n",
    "#   a) Deleting head node, reassign head node if there is a node next to it\n",
    "#   b) Deleting tail node, reassign the prev node if there is any before it\n",
    "#   c) Delete a node in between nodes, meh again. Connect the prev node to the next and vice versa and set the node to none\n",
    "\n",
    "class DLL:\n",
    "    def __init__(self):\n",
    "        self.head = None\n",
    "        self.tail = None\n",
    "        \n",
    "    def print_elements(self):\n",
    "        current = self.head\n",
    "        while current:\n",
    "            print(current.data)\n",
    "            current = current.next \n",
    "    \n",
    "    def append_node(self, value):\n",
    "        new_node = Node(value)\n",
    "        # if DLL is empty\n",
    "        if self.head is None:\n",
    "            self.head = new_node\n",
    "            self.tail = new_node\n",
    "        else:\n",
    "            # get the current tail node\n",
    "            cur_tail_node = self.tail\n",
    "            # update the tail node with the new node\n",
    "            self.tail = new_node\n",
    "            # set prev node of new node as the tail node\n",
    "            new_node.prev = cur_tail_node\n",
    "            # set the old tail node's next pointer to new tail node (new node)\n",
    "            cur_tail_node.next = new_node\n",
    "    def insert_node(self, value, prev_node: Node = None):\n",
    "        new_node = Node(value)\n",
    "        head_node = self.head\n",
    "        tail_node = self.tail\n",
    "        # if inserting at head\n",
    "        if prev_node is None:\n",
    "            # if empty DLL\n",
    "            if head_node is None:\n",
    "                self.head = new_node\n",
    "                self.tail = new_node\n",
    "            else:\n",
    "                self.head = new_node\n",
    "                new_node.next = head_node\n",
    "                head_node.prev = new_node\n",
    "        # if inserting at tail\n",
    "        elif prev_node.next is None:\n",
    "            prev_node.next = new_node\n",
    "            self.tail = new_node\n",
    "            new_node.prev = prev_node\n",
    "        # inserting in between nodes\n",
    "        else:\n",
    "            next_node = prev_node.next\n",
    "            prev_node.next = new_node\n",
    "            new_node.prev = prev_node\n",
    "            new_node.next = next_node\n",
    "            next_node.prev = new_node\n",
    "            # whoo ... breaking a two way relation is too much work. Let's test it out\n",
    "    def delete_node(self, value):\n",
    "        head_node = self.head\n",
    "        tail_node = self.tail\n",
    "        # if head node is None, i.e. the DLL is empty so be lazy and do nothing\n",
    "        if head_node is None:\n",
    "            return\n",
    "        if head_node.data == value:\n",
    "            # if DLL has atleast two elements\n",
    "            if head_node.next is not None:\n",
    "                new_head = head_node.next\n",
    "                self.head = new_head\n",
    "                new_head.prev = None\n",
    "            # if DLL only had one element, head and tail points to none\n",
    "            else:\n",
    "                self.head = None\n",
    "                self.tail = None\n",
    "            # Either way we don't need the head node. It's been terminated\n",
    "            head_node = None\n",
    "        # \n",
    "        else:\n",
    "            cur_node = head_node\n",
    "            next_node = cur_node.next\n",
    "            # looping through till the end of the list or till we find the node to be deleted\n",
    "            while next_node is not None:\n",
    "                # when we find the node to be deleted we say bingo\n",
    "                if next_node.data == value:\n",
    "                    # current node will point to node next to next_node\n",
    "                    cur_node.next = next_node.next\n",
    "                    # And that next node to the next_node will have a pointer to the current node\n",
    "                    next_node.next.prev = cur_node\n",
    "                    # Then we terminate. Hasta la vista. Probably not.\n",
    "                    next_node = None\n",
    "                    # And boom! We stop the loop. We found what we were looking for. (One of them)\n",
    "                    break\n",
    "        # Now we hope to find some bug so that we can debug (yay). Fingers crossed\n",
    "                        \n",
    "            "
   ]
  },
  {
   "cell_type": "code",
   "execution_count": null,
   "metadata": {},
   "outputs": [],
   "source": []
  }
 ],
 "metadata": {
  "kernelspec": {
   "display_name": "Python 3",
   "language": "python",
   "name": "python3"
  },
  "language_info": {
   "codemirror_mode": {
    "name": "ipython",
    "version": 3
   },
   "file_extension": ".py",
   "mimetype": "text/x-python",
   "name": "python",
   "nbconvert_exporter": "python",
   "pygments_lexer": "ipython3",
   "version": "3.8.3"
  }
 },
 "nbformat": 4,
 "nbformat_minor": 4
}
