{
 "cells": [
  {
   "cell_type": "markdown",
   "metadata": {},
   "source": [
    "# Stacks and Queues"
   ]
  },
  {
   "cell_type": "code",
   "execution_count": 1,
   "metadata": {},
   "outputs": [],
   "source": [
    "# Stacks and queues are basically just lists with some restrictions. Those are LIFO and FIFO. Let's start with stacks"
   ]
  },
  {
   "cell_type": "markdown",
   "metadata": {},
   "source": [
    "## Stacks"
   ]
  },
  {
   "cell_type": "code",
   "execution_count": 5,
   "metadata": {},
   "outputs": [],
   "source": [
    "# Imagine a dish washer washing dishes one by one. Let's assume only similar type plates are being washed. \n",
    "# So when the plates arrive they are stacked on top of each other. The irony is we need to use 'stack' in the definition of a stack data structure\n",
    "# Dish washer doesn't care about the order in which plates are stacked. They just take the top plate and wash it and move on to next.\n",
    "# By the time they are about to take the next plate new plates have arrived and placed on top of the rest of the stack\n",
    "# Which ever plate is on top is the latest arrival and first to be washed. I know it's not a fair world but that's what a stack is.\n",
    "# It's last in first out or LIFO in short and caps.\n",
    "# Morally I like a queue which we will discuss after this.   "
   ]
  },
  {
   "cell_type": "code",
   "execution_count": 13,
   "metadata": {},
   "outputs": [],
   "source": [
    "# Major methods\n",
    "# 1. Okay, so we need one to insert an element \n",
    "# 2. Pop an element\n",
    "# That's it. Phew!\n",
    "# 3. Let's add a method to count the number of plates our passionate dishwasher has left to wash. Just in case."
   ]
  },
  {
   "cell_type": "code",
   "execution_count": 20,
   "metadata": {},
   "outputs": [],
   "source": [
    "# Implementation\n",
    "class Stack:\n",
    "    def __init__(self):\n",
    "        self.stack = []\n",
    "        # told ya it's basically a list\n",
    "        \n",
    "    def add_element(self, value):\n",
    "        self.stack.append(value)\n",
    "        # And that would be it\n",
    "    \n",
    "    def pop_elements(self):\n",
    "        # We don't have to sweat much, list pop is built in, but just check if the stack is empty or not\n",
    "        if self.stack:\n",
    "            return self.stack.pop()\n",
    "    \n",
    "    def counter(self):\n",
    "        return len(self.stack)\n",
    "    \n",
    "    # And that's it. Stacks sucks #PersonalOpinion"
   ]
  },
  {
   "cell_type": "code",
   "execution_count": 24,
   "metadata": {},
   "outputs": [
    {
     "data": {
      "text/plain": [
       "0"
      ]
     },
     "execution_count": 24,
     "metadata": {},
     "output_type": "execute_result"
    }
   ],
   "source": [
    "stack = Stack()\n",
    "stack.counter()"
   ]
  },
  {
   "cell_type": "code",
   "execution_count": 25,
   "metadata": {},
   "outputs": [
    {
     "data": {
      "text/plain": [
       "1"
      ]
     },
     "execution_count": 25,
     "metadata": {},
     "output_type": "execute_result"
    }
   ],
   "source": [
    "# Test case : Add element\n",
    "stack.add_element(0)\n",
    "stack.counter()"
   ]
  },
  {
   "cell_type": "code",
   "execution_count": 26,
   "metadata": {},
   "outputs": [
    {
     "data": {
      "text/plain": [
       "0"
      ]
     },
     "execution_count": 26,
     "metadata": {},
     "output_type": "execute_result"
    }
   ],
   "source": [
    "# Test case : Pop element from a stack\n",
    "stack.pop_elements()\n",
    "stack.counter()"
   ]
  },
  {
   "cell_type": "code",
   "execution_count": 27,
   "metadata": {},
   "outputs": [
    {
     "data": {
      "text/plain": [
       "0"
      ]
     },
     "execution_count": 27,
     "metadata": {},
     "output_type": "execute_result"
    }
   ],
   "source": [
    "# Test case : Pop element from an empty stack\n",
    "stack.pop_elements()\n",
    "stack.counter()"
   ]
  },
  {
   "cell_type": "code",
   "execution_count": 28,
   "metadata": {},
   "outputs": [],
   "source": [
    "# Neat. Let's move on to queues then"
   ]
  },
  {
   "cell_type": "markdown",
   "metadata": {},
   "source": [
    "## Queues"
   ]
  },
  {
   "cell_type": "code",
   "execution_count": 30,
   "metadata": {},
   "outputs": [],
   "source": [
    "# As opposed to stacks, Queues are fair in the real world scenario and my fav of the two. \n",
    "# It works exactly like a queue you would find in front of a cinema theatre or a liquor shop in Kerala.\n",
    "# The first one to get in is the first to get served. First In First Out. FIFO."
   ]
  },
  {
   "cell_type": "code",
   "execution_count": 35,
   "metadata": {},
   "outputs": [],
   "source": [
    "# How do we implement it?\n",
    "# It's again a list with major restrictions. And we can use the built in list methods to implement the queue class\n",
    "# 1. The pop method, top pop out the last element. \n",
    "# 2. The insert method, where we pass in the index and the value to be inserted\n",
    "# Easy there boy, we need to do some tweaks. Since the pop method 'pops' the last element we are gonna think \n",
    "# of the list in reverse order. Like the last element in the list is our first element of the Queue\n",
    "# And we are always going to insert the element at the first position which is the last element of our Queue using the\n",
    "# insert method with index always as '0'\n",
    "# Now if you can understand this then it's a cakewalk from here."
   ]
  },
  {
   "cell_type": "code",
   "execution_count": 33,
   "metadata": {},
   "outputs": [],
   "source": [
    "# P.S. : Cakewalk has nothing to do with walking over a cake. If you imagined it now in your head, you are not alone. "
   ]
  },
  {
   "cell_type": "code",
   "execution_count": 34,
   "metadata": {},
   "outputs": [],
   "source": [
    "# Methods\n",
    "# 1. Insert : Insert element at the begining of the list\n",
    "# 2. Pop : Pop element from the end, as pop always does.\n",
    "# 3. We can just create a counter since I have a strong feeling Queue class implementation is going to be cake walk\n",
    "# Let's get this over with. I'm sooo looking forward to trees and sorting algorithms"
   ]
  },
  {
   "cell_type": "code",
   "execution_count": 39,
   "metadata": {},
   "outputs": [],
   "source": [
    "# Implementation\n",
    "class Queue:\n",
    "    def __init__(self):\n",
    "        self.queue = []\n",
    "        # told ya it's basically a list\n",
    "        # Just trying to complicate things here\n",
    "        self.counter = 0\n",
    "        \n",
    "    def insert(self, value):\n",
    "        # insert the element at the first position always\n",
    "        self.queue.insert(0, value)\n",
    "        self.counter += 1\n",
    "        # And that would be it\n",
    "    \n",
    "    def pop(self):\n",
    "        # I feel stupid writing this code. Not kidding. Just check if it's empty or not and pop it goes\n",
    "        if self.queue:\n",
    "            self.counter -= 1\n",
    "            return self.queue.pop()\n",
    "    \n",
    "    def count(self):\n",
    "        # we don't have to do len() every time. But it could be an over kill to add a counter\n",
    "        # Who am I kidding ... Queues should be implemented using a linked list. We should definitely check that out\n",
    "        return self.counter"
   ]
  },
  {
   "cell_type": "code",
   "execution_count": 40,
   "metadata": {},
   "outputs": [],
   "source": [
    "# Let's do some testing. There are only few and obvious corner cases, like\n",
    "# 1. trying to pop from an empty list\n",
    "# 2. I can't think of anything else but just one point looks kinda lonely"
   ]
  },
  {
   "cell_type": "code",
   "execution_count": 53,
   "metadata": {},
   "outputs": [
    {
     "data": {
      "text/plain": [
       "0"
      ]
     },
     "execution_count": 53,
     "metadata": {},
     "output_type": "execute_result"
    }
   ],
   "source": [
    "# Initializing\n",
    "queue = Queue()\n",
    "queue.count()"
   ]
  },
  {
   "cell_type": "code",
   "execution_count": 54,
   "metadata": {},
   "outputs": [
    {
     "data": {
      "text/plain": [
       "2"
      ]
     },
     "execution_count": 54,
     "metadata": {},
     "output_type": "execute_result"
    }
   ],
   "source": [
    "# I don't even wanna write comments for these. But we are inserting elements here dumbo.\n",
    "queue.insert(1)\n",
    "queue.insert(2)\n",
    "queue.count()"
   ]
  },
  {
   "cell_type": "code",
   "execution_count": 55,
   "metadata": {},
   "outputs": [
    {
     "data": {
      "text/plain": [
       "1"
      ]
     },
     "execution_count": 55,
     "metadata": {},
     "output_type": "execute_result"
    }
   ],
   "source": [
    "# Mary Poppins\n",
    "queue.pop()"
   ]
  },
  {
   "cell_type": "code",
   "execution_count": 56,
   "metadata": {},
   "outputs": [
    {
     "data": {
      "text/plain": [
       "1"
      ]
     },
     "execution_count": 56,
     "metadata": {},
     "output_type": "execute_result"
    }
   ],
   "source": [
    "queue.count()"
   ]
  },
  {
   "cell_type": "code",
   "execution_count": 57,
   "metadata": {},
   "outputs": [
    {
     "data": {
      "text/plain": [
       "(2, 0)"
      ]
     },
     "execution_count": 57,
     "metadata": {},
     "output_type": "execute_result"
    }
   ],
   "source": [
    "queue.pop(), queue.count()"
   ]
  },
  {
   "cell_type": "code",
   "execution_count": null,
   "metadata": {},
   "outputs": [],
   "source": [
    "# Last In Last Out (FIFO) "
   ]
  }
 ],
 "metadata": {
  "kernelspec": {
   "display_name": "Python 3",
   "language": "python",
   "name": "python3"
  },
  "language_info": {
   "codemirror_mode": {
    "name": "ipython",
    "version": 3
   },
   "file_extension": ".py",
   "mimetype": "text/x-python",
   "name": "python",
   "nbconvert_exporter": "python",
   "pygments_lexer": "ipython3",
   "version": "3.8.3"
  }
 },
 "nbformat": 4,
 "nbformat_minor": 4
}
