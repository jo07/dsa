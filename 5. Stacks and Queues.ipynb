{
 "cells": [
  {
   "cell_type": "markdown",
   "metadata": {},
   "source": [
    "# Stacks and Queues"
   ]
  },
  {
   "cell_type": "code",
   "execution_count": 1,
   "metadata": {},
   "outputs": [],
   "source": [
    "# Stacks and queues are basically just lists with some restrictions. Those are LIFO and FIFO. Let's start with stacks"
   ]
  },
  {
   "cell_type": "markdown",
   "metadata": {},
   "source": [
    "## Stacks"
   ]
  },
  {
   "cell_type": "code",
   "execution_count": 5,
   "metadata": {},
   "outputs": [],
   "source": [
    "# Imagine a dish washer washing dishes one by one. Let's assume only similar type plates are being washed. \n",
    "# So when the plates arrive they are stacked on top of each other. The irony is we need to use 'stack' in the definition of a stack data structure\n",
    "# Dish washer doesn't care about the order in which plates are stacked. They just take the top plate and wash it and move on to next.\n",
    "# By the time they are about to take the next plate new plates have arrived and placed on top of the rest of the stack\n",
    "# Which ever plate is on top is the latest arrival and first to be washed. I know it's not a fair world but that's what a stack is.\n",
    "# It's last in first out or LIFO in short and caps.\n",
    "# Morally I like a queue which we will discuss after this.   "
   ]
  },
  {
   "cell_type": "code",
   "execution_count": 13,
   "metadata": {},
   "outputs": [],
   "source": [
    "# Major methods\n",
    "# 1. Okay, so we need one to insert an element \n",
    "# 2. Pop an element\n",
    "# That's it. Phew!\n",
    "# 3. Let's add a method to count the number of plates our passionate dishwasher has left to wash. Just in case."
   ]
  },
  {
   "cell_type": "code",
   "execution_count": 20,
   "metadata": {},
   "outputs": [],
   "source": [
    "# Implementation\n",
    "class Stack:\n",
    "    def __init__(self):\n",
    "        self.stack = []\n",
    "        # told ya it's basically a list\n",
    "        \n",
    "    def add_element(self, value):\n",
    "        self.stack.append(value)\n",
    "        # And that would be it\n",
    "    \n",
    "    def pop_elements(self):\n",
    "        # We don't have to sweat much, list pop is built in, but just check if the stack is empty or not\n",
    "        if self.stack:\n",
    "            return self.stack.pop()\n",
    "    \n",
    "    def counter(self):\n",
    "        return len(self.stack)\n",
    "    \n",
    "    # And that's it. Stacks sucks #PersonalOpinion"
   ]
  },
  {
   "cell_type": "code",
   "execution_count": 24,
   "metadata": {},
   "outputs": [
    {
     "data": {
      "text/plain": [
       "0"
      ]
     },
     "execution_count": 24,
     "metadata": {},
     "output_type": "execute_result"
    }
   ],
   "source": [
    "stack = Stack()\n",
    "stack.counter()"
   ]
  },
  {
   "cell_type": "code",
   "execution_count": 25,
   "metadata": {},
   "outputs": [
    {
     "data": {
      "text/plain": [
       "1"
      ]
     },
     "execution_count": 25,
     "metadata": {},
     "output_type": "execute_result"
    }
   ],
   "source": [
    "# Test case : Add element\n",
    "stack.add_element(0)\n",
    "stack.counter()"
   ]
  },
  {
   "cell_type": "code",
   "execution_count": 26,
   "metadata": {},
   "outputs": [
    {
     "data": {
      "text/plain": [
       "0"
      ]
     },
     "execution_count": 26,
     "metadata": {},
     "output_type": "execute_result"
    }
   ],
   "source": [
    "# Test case : Pop element from a stack\n",
    "stack.pop_elements()\n",
    "stack.counter()"
   ]
  },
  {
   "cell_type": "code",
   "execution_count": 27,
   "metadata": {},
   "outputs": [
    {
     "data": {
      "text/plain": [
       "0"
      ]
     },
     "execution_count": 27,
     "metadata": {},
     "output_type": "execute_result"
    }
   ],
   "source": [
    "# Test case : Pop element from an empty stack\n",
    "stack.pop_elements()\n",
    "stack.counter()"
   ]
  },
  {
   "cell_type": "code",
   "execution_count": 28,
   "metadata": {},
   "outputs": [],
   "source": [
    "# Neat. Let's move on to queues then"
   ]
  },
  {
   "cell_type": "code",
   "execution_count": null,
   "metadata": {},
   "outputs": [],
   "source": []
  }
 ],
 "metadata": {
  "kernelspec": {
   "display_name": "Python 3",
   "language": "python",
   "name": "python3"
  },
  "language_info": {
   "codemirror_mode": {
    "name": "ipython",
    "version": 3
   },
   "file_extension": ".py",
   "mimetype": "text/x-python",
   "name": "python",
   "nbconvert_exporter": "python",
   "pygments_lexer": "ipython3",
   "version": "3.8.3"
  }
 },
 "nbformat": 4,
 "nbformat_minor": 4
}
