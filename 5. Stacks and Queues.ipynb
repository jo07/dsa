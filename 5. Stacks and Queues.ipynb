{
 "cells": [
  {
   "cell_type": "markdown",
   "metadata": {},
   "source": [
    "# Stacks and Queues"
   ]
  },
  {
   "cell_type": "code",
   "execution_count": 1,
   "metadata": {},
   "outputs": [],
   "source": [
    "# Stacks and queues are basically just lists with some restrictions. Those are LIFO and FIFO. Let's start with stacks"
   ]
  },
  {
   "cell_type": "markdown",
   "metadata": {},
   "source": [
    "## Stacks"
   ]
  },
  {
   "cell_type": "code",
   "execution_count": 5,
   "metadata": {},
   "outputs": [],
   "source": [
    "# Imagine a dish washer washing dishes one by one. Let's assume only similar type plates are being washed. \n",
    "# So when the plates arrive they are stacked on top of each other. The irony is we need to use 'stack' in the definition of a stack data structure\n",
    "# Dish washer doesn't care about the order in which plates are stacked. They just take the top plate and wash it and move on to next.\n",
    "# By the time they are about to take the next plate new plates have arrived and placed on top of the rest of the stack\n",
    "# Which ever plate is on top is the latest arrival and first to be washed. I know it's not a fair world but that's what a stack is.\n",
    "# It's last in first out or LIFO in short and caps.\n",
    "# Morally I like a queue which we will discuss after this.   "
   ]
  },
  {
   "cell_type": "code",
   "execution_count": 13,
   "metadata": {},
   "outputs": [],
   "source": [
    "# Major methods\n",
    "# 1. Okay, so we need one to insert an element \n",
    "# 2. Pop an element\n",
    "# That's it. Phew!\n",
    "# 3. Let's add a method to count the number of plates our passionate dishwasher has left to wash. Just in case."
   ]
  },
  {
   "cell_type": "code",
   "execution_count": 20,
   "metadata": {},
   "outputs": [],
   "source": [
    "# Implementation\n",
    "class Stack:\n",
    "    def __init__(self):\n",
    "        self.stack = []\n",
    "        # told ya it's basically a list\n",
    "        \n",
    "    def add_element(self, value):\n",
    "        self.stack.append(value)\n",
    "        # And that would be it\n",
    "    \n",
    "    def pop_elements(self):\n",
    "        # We don't have to sweat much, list pop is built in, but just check if the stack is empty or not\n",
    "        if self.stack:\n",
    "            return self.stack.pop()\n",
    "    \n",
    "    def counter(self):\n",
    "        return len(self.stack)\n",
    "    \n",
    "    # And that's it. Stacks sucks #PersonalOpinion"
   ]
  },
  {
   "cell_type": "code",
   "execution_count": 24,
   "metadata": {},
   "outputs": [
    {
     "data": {
      "text/plain": [
       "0"
      ]
     },
     "execution_count": 24,
     "metadata": {},
     "output_type": "execute_result"
    }
   ],
   "source": [
    "stack = Stack()\n",
    "stack.counter()"
   ]
  },
  {
   "cell_type": "code",
   "execution_count": 25,
   "metadata": {},
   "outputs": [
    {
     "data": {
      "text/plain": [
       "1"
      ]
     },
     "execution_count": 25,
     "metadata": {},
     "output_type": "execute_result"
    }
   ],
   "source": [
    "# Test case : Add element\n",
    "stack.add_element(0)\n",
    "stack.counter()"
   ]
  },
  {
   "cell_type": "code",
   "execution_count": 26,
   "metadata": {},
   "outputs": [
    {
     "data": {
      "text/plain": [
       "0"
      ]
     },
     "execution_count": 26,
     "metadata": {},
     "output_type": "execute_result"
    }
   ],
   "source": [
    "# Test case : Pop element from a stack\n",
    "stack.pop_elements()\n",
    "stack.counter()"
   ]
  },
  {
   "cell_type": "code",
   "execution_count": 27,
   "metadata": {},
   "outputs": [
    {
     "data": {
      "text/plain": [
       "0"
      ]
     },
     "execution_count": 27,
     "metadata": {},
     "output_type": "execute_result"
    }
   ],
   "source": [
    "# Test case : Pop element from an empty stack\n",
    "stack.pop_elements()\n",
    "stack.counter()"
   ]
  },
  {
   "cell_type": "code",
   "execution_count": 28,
   "metadata": {},
   "outputs": [],
   "source": [
    "# Neat. Let's move on to queues then"
   ]
  },
  {
   "cell_type": "markdown",
   "metadata": {},
   "source": [
    "## Queues"
   ]
  },
  {
   "cell_type": "code",
   "execution_count": 30,
   "metadata": {},
   "outputs": [],
   "source": [
    "# As opposed to stacks, Queues are fair in the real world scenario and my fav of the two. \n",
    "# It works exactly like a queue you would find in front of a cinema theatre or a liquor shop in Kerala.\n",
    "# The first one to get in is the first to get served. First In First Out. FIFO."
   ]
  },
  {
   "cell_type": "code",
   "execution_count": 35,
   "metadata": {},
   "outputs": [],
   "source": [
    "# How do we implement it?\n",
    "# It's again a list with major restrictions. And we can use the built in list methods to implement the queue class\n",
    "# 1. The pop method, top pop out the last element. \n",
    "# 2. The insert method, where we pass in the index and the value to be inserted\n",
    "# Easy there boy, we need to do some tweaks. Since the pop method 'pops' the last element we are gonna think \n",
    "# of the list in reverse order. Like the last element in the list is our first element of the Queue\n",
    "# And we are always going to insert the element at the first position which is the last element of our Queue using the\n",
    "# insert method with index always as '0'\n",
    "# Now if you can understand this then it's a cakewalk from here."
   ]
  },
  {
   "cell_type": "code",
   "execution_count": 33,
   "metadata": {},
   "outputs": [],
   "source": [
    "# P.S. : Cakewalk has nothing to do with walking over a cake. If you imagined it now in your head, you are not alone. "
   ]
  },
  {
   "cell_type": "code",
   "execution_count": 34,
   "metadata": {},
   "outputs": [],
   "source": [
    "# Methods\n",
    "# 1. Insert : Insert element at the begining of the list\n",
    "# 2. Pop : Pop element from the end, as pop always does.\n",
    "# 3. We can just create a counter since I have a strong feeling Queue class implementation is going to be cake walk\n",
    "# Let's get this over with. I'm sooo looking forward to trees and sorting algorithms"
   ]
  },
  {
   "cell_type": "code",
   "execution_count": 39,
   "metadata": {},
   "outputs": [],
   "source": [
    "# Implementation\n",
    "class Queue:\n",
    "    def __init__(self):\n",
    "        self.queue = []\n",
    "        # told ya it's basically a list\n",
    "        # Just trying to complicate things here\n",
    "        self.counter = 0\n",
    "        \n",
    "    def insert(self, value):\n",
    "        # insert the element at the first position always\n",
    "        self.queue.insert(0, value)\n",
    "        self.counter += 1\n",
    "        # And that would be it\n",
    "    \n",
    "    def pop(self):\n",
    "        # I feel stupid writing this code. Not kidding. Just check if it's empty or not and pop it goes\n",
    "        if self.queue:\n",
    "            self.counter -= 1\n",
    "            return self.queue.pop()\n",
    "    \n",
    "    def count(self):\n",
    "        # we don't have to do len() every time. But it could be an over kill to add a counter\n",
    "        # Who am I kidding ... Queues should be implemented using a linked list. We should definitely check that out\n",
    "        return self.counter"
   ]
  },
  {
   "cell_type": "code",
   "execution_count": 40,
   "metadata": {},
   "outputs": [],
   "source": [
    "# Let's do some testing. There are only few and obvious corner cases, like\n",
    "# 1. trying to pop from an empty list\n",
    "# 2. I can't think of anything else but just one point looks kinda lonely"
   ]
  },
  {
   "cell_type": "code",
   "execution_count": 53,
   "metadata": {},
   "outputs": [
    {
     "data": {
      "text/plain": [
       "0"
      ]
     },
     "execution_count": 53,
     "metadata": {},
     "output_type": "execute_result"
    }
   ],
   "source": [
    "# Initializing\n",
    "queue = Queue()\n",
    "queue.count()"
   ]
  },
  {
   "cell_type": "code",
   "execution_count": 54,
   "metadata": {},
   "outputs": [
    {
     "data": {
      "text/plain": [
       "2"
      ]
     },
     "execution_count": 54,
     "metadata": {},
     "output_type": "execute_result"
    }
   ],
   "source": [
    "# I don't even wanna write comments for these. But we are inserting elements here dumbo.\n",
    "queue.insert(1)\n",
    "queue.insert(2)\n",
    "queue.count()"
   ]
  },
  {
   "cell_type": "code",
   "execution_count": 55,
   "metadata": {},
   "outputs": [
    {
     "data": {
      "text/plain": [
       "1"
      ]
     },
     "execution_count": 55,
     "metadata": {},
     "output_type": "execute_result"
    }
   ],
   "source": [
    "# Mary Poppins\n",
    "queue.pop()"
   ]
  },
  {
   "cell_type": "code",
   "execution_count": 56,
   "metadata": {},
   "outputs": [
    {
     "data": {
      "text/plain": [
       "1"
      ]
     },
     "execution_count": 56,
     "metadata": {},
     "output_type": "execute_result"
    }
   ],
   "source": [
    "queue.count()"
   ]
  },
  {
   "cell_type": "code",
   "execution_count": 57,
   "metadata": {},
   "outputs": [
    {
     "data": {
      "text/plain": [
       "(2, 0)"
      ]
     },
     "execution_count": 57,
     "metadata": {},
     "output_type": "execute_result"
    }
   ],
   "source": [
    "queue.pop(), queue.count()"
   ]
  },
  {
   "cell_type": "code",
   "execution_count": 60,
   "metadata": {},
   "outputs": [],
   "source": [
    "# Last In Last Out (FIFO) :D"
   ]
  },
  {
   "cell_type": "code",
   "execution_count": 61,
   "metadata": {},
   "outputs": [],
   "source": [
    "# Everything happens for a reason. That's not what I believe. I think that's bs. But it's good that we set a counter\n",
    "# in our queue cause we are gonna build a dequeue or a Double-Ended QUEUE. So when we put the characters in caps together\n",
    "# we get dequeue. "
   ]
  },
  {
   "cell_type": "markdown",
   "metadata": {},
   "source": [
    "## DEQUEUE"
   ]
  },
  {
   "cell_type": "code",
   "execution_count": 62,
   "metadata": {},
   "outputs": [],
   "source": [
    "# As the name suggest (the expanded one) this is a queue where insert and remove (pop) happens at both ends.\n",
    "# We can modify the Queue class slightly to create the dequeue. So let's use the magical power of CTRL, C, V keys.\n",
    "# In combination"
   ]
  },
  {
   "cell_type": "code",
   "execution_count": 63,
   "metadata": {},
   "outputs": [],
   "source": [
    "# Methods\n",
    "# 1. Insert from front\n",
    "# 2. Insert from back\n",
    "# 3. Pop from front\n",
    "# 4. Pop from back\n",
    "# 5. Check if dequeue is empty\n",
    "# 6. Print \"I'm soo bored\"\n",
    "# Let's get it done."
   ]
  },
  {
   "cell_type": "code",
   "execution_count": 106,
   "metadata": {},
   "outputs": [],
   "source": [
    "# Implementation\n",
    "class DeQueue:\n",
    "    def __init__(self):\n",
    "        self.dequeue = []\n",
    "        # told ya it's basically a list\n",
    "        # Just trying to complicate things here\n",
    "        self.counter = 0\n",
    "        \n",
    "    def insert_front(self, value):\n",
    "        # insert the element at the first position always\n",
    "        self.dequeue.insert(0, value)\n",
    "        self.counter += 1\n",
    "        # And that would be it\n",
    "    \n",
    "    def insert_back(self, value):\n",
    "        \n",
    "        # insert the element at the index +1  position. And length is always index + 1. So tada!\n",
    "        self.dequeue.insert(self.counter, value)\n",
    "        self.counter += 1\n",
    "        # And that would be it\n",
    "    \n",
    "    def pop_front(self):\n",
    "        # I feel stupid writing this code. Not kidding. Just check if it's empty or not and pop it goes\n",
    "        if self.dequeue:\n",
    "            self.counter -= 1\n",
    "            # Pop the first element. Meh\n",
    "            return self.dequeue.pop(0)\n",
    "        # So that an empty dequeue will also return something even if it's nothing\n",
    "        else:\n",
    "            return None\n",
    "    \n",
    "    def pop_back(self):\n",
    "        # It's just copy pasted from the queue and name changed. I don't have time to write all these silly things again\n",
    "        # But it would seem like I like writing silly comments.\n",
    "        if self.dequeue:\n",
    "            self.counter -= 1\n",
    "            return self.dequeue.pop()\n",
    "        # So that an empty dequeue will also return something even if it's nothing\n",
    "        else:\n",
    "            return None\n",
    "    \n",
    "    def count(self):\n",
    "        # we don't have to do len() every time. But it could be an over kill to add a counter\n",
    "        # Who am I kidding ... Queues should be implemented using a linked list. We should definitely check that out\n",
    "        return self.counter\n",
    "    \n",
    "    \n",
    "    def is_empty(self):\n",
    "        # Everything happens for a reason. I told you right? No I didn't. This doesn't need explanation\n",
    "        return self.counter == 0;\n",
    "    \n",
    "    def print_boring_message(self):\n",
    "        print('So so bored')\n",
    "    "
   ]
  },
  {
   "cell_type": "code",
   "execution_count": 66,
   "metadata": {},
   "outputs": [],
   "source": [
    "# Testing. YOu should always do testing for all the cases and all the corner cases how ever over-confident you are.\n",
    "# Cases\n",
    "# 1. Insert from front on a empty dequeue, non empty dequeue.\n",
    "# 2. Insert from back on a empty dequeue, non empty dequeue\n",
    "# 3. Pop from front on a empty dequeue, non empty dequeue\n",
    "# 4. Pop from back on a empty dequeue, non empty dequeue\n",
    "# 5. Check if empty on a empty dequeue, non empty dequeue\n",
    "# 6. Print \"I'm soo bored\" on a empty dequeue, non empty dequeue"
   ]
  },
  {
   "cell_type": "code",
   "execution_count": 107,
   "metadata": {},
   "outputs": [
    {
     "data": {
      "text/plain": [
       "True"
      ]
     },
     "execution_count": 107,
     "metadata": {},
     "output_type": "execute_result"
    }
   ],
   "source": [
    "# Initialisation \n",
    "dq = DeQueue()\n",
    "dq.is_empty()"
   ]
  },
  {
   "cell_type": "code",
   "execution_count": 108,
   "metadata": {},
   "outputs": [],
   "source": [
    "dq.pop_back()"
   ]
  },
  {
   "cell_type": "code",
   "execution_count": 109,
   "metadata": {},
   "outputs": [],
   "source": [
    "dq.pop_front()"
   ]
  },
  {
   "cell_type": "code",
   "execution_count": 110,
   "metadata": {},
   "outputs": [
    {
     "data": {
      "text/plain": [
       "(1, False)"
      ]
     },
     "execution_count": 110,
     "metadata": {},
     "output_type": "execute_result"
    }
   ],
   "source": [
    "dq.insert_back(10)\n",
    "dq.count(), dq.is_empty()"
   ]
  },
  {
   "cell_type": "code",
   "execution_count": 111,
   "metadata": {},
   "outputs": [
    {
     "data": {
      "text/plain": [
       "(10, 0)"
      ]
     },
     "execution_count": 111,
     "metadata": {},
     "output_type": "execute_result"
    }
   ],
   "source": [
    "dq.pop_front(), dq.count()"
   ]
  },
  {
   "cell_type": "code",
   "execution_count": 112,
   "metadata": {},
   "outputs": [
    {
     "data": {
      "text/plain": [
       "(1, False)"
      ]
     },
     "execution_count": 112,
     "metadata": {},
     "output_type": "execute_result"
    }
   ],
   "source": [
    "dq.insert_front(1)\n",
    "dq.count(), dq.is_empty()"
   ]
  },
  {
   "cell_type": "code",
   "execution_count": 113,
   "metadata": {},
   "outputs": [
    {
     "data": {
      "text/plain": [
       "(1, 0)"
      ]
     },
     "execution_count": 113,
     "metadata": {},
     "output_type": "execute_result"
    }
   ],
   "source": [
    "dq.pop_back(), dq.count()"
   ]
  },
  {
   "cell_type": "code",
   "execution_count": 114,
   "metadata": {},
   "outputs": [
    {
     "data": {
      "text/plain": [
       "(None, None, True)"
      ]
     },
     "execution_count": 114,
     "metadata": {},
     "output_type": "execute_result"
    }
   ],
   "source": [
    "dq.pop_back(), dq.pop_front(), dq.is_empty()"
   ]
  },
  {
   "cell_type": "code",
   "execution_count": 115,
   "metadata": {},
   "outputs": [],
   "source": [
    "# That would be all. We will be moving on to the better stuff like trees, sorting algo, search algo etc. Yaay!\n",
    "# To be honest, which I'm always, these things should be built in linked list. Because those are made for situation\n",
    "# where you don't need random access. Lists have poor performance compared to while we delete or insert something from \n",
    "# front or in between there is a lot of shifting happening in the background and we never know about it like the sacrifices\n",
    "# our parents make for us. We just take it for granted. Don't be like spoiled brat, use linked list for stack and queues."
   ]
  },
  {
   "cell_type": "code",
   "execution_count": null,
   "metadata": {},
   "outputs": [],
   "source": []
  }
 ],
 "metadata": {
  "kernelspec": {
   "display_name": "Python 3",
   "language": "python",
   "name": "python3"
  },
  "language_info": {
   "codemirror_mode": {
    "name": "ipython",
    "version": 3
   },
   "file_extension": ".py",
   "mimetype": "text/x-python",
   "name": "python",
   "nbconvert_exporter": "python",
   "pygments_lexer": "ipython3",
   "version": "3.8.3"
  }
 },
 "nbformat": 4,
 "nbformat_minor": 4
}
