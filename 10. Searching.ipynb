{
 "cells": [
  {
   "cell_type": "markdown",
   "metadata": {},
   "source": [
    "# Searching"
   ]
  },
  {
   "cell_type": "code",
   "execution_count": 1,
   "metadata": {},
   "outputs": [],
   "source": [
    "# We learned sorting for an entire chapter. We do sorting because it gets easier to access those stored elements from \n",
    "# the data structure. There is also linear search when the data is stored in a data structure without any order but \n",
    "# that's not very efficient. We will go through most of them. So let's begin"
   ]
  },
  {
   "cell_type": "markdown",
   "metadata": {},
   "source": [
    "## Random Search"
   ]
  },
  {
   "cell_type": "code",
   "execution_count": 8,
   "metadata": {},
   "outputs": [],
   "source": [
    "# Random search is, I believe, to mock human inefficiency. It's the most inefficient searching algorithm and it can \n",
    "# possibly run for ever. It basically searched at a random position if the value present or not. It keeps searching \n",
    "# randomly to find the value and in a hypothetical situation it might never find a value in a big list if it keeps \n",
    "# picking on some other elements over and over again. Let's test it out"
   ]
  },
  {
   "cell_type": "code",
   "execution_count": 11,
   "metadata": {},
   "outputs": [],
   "source": [
    "# Implementation \n",
    "# We are gonna use the random modules choice method to randomly pick an element. \n",
    "import random\n",
    "def random_search(arr, el):\n",
    "    # let's add a counter to see how many tries it take to find the element\n",
    "    counter = 0\n",
    "    while 1:\n",
    "        random_choice = random.choice(arr)\n",
    "        counter += 1 \n",
    "        if random_choice == el:\n",
    "            return random_choice, counter"
   ]
  },
  {
   "cell_type": "code",
   "execution_count": 12,
   "metadata": {},
   "outputs": [
    {
     "data": {
      "text/plain": [
       "(5, 17)"
      ]
     },
     "execution_count": 12,
     "metadata": {},
     "output_type": "execute_result"
    }
   ],
   "source": [
    "# Lets test it on a sample array\n",
    "arr = [10, 5, 55, 35, 20, 75, 15]\n",
    "random_search(arr, 5)"
   ]
  },
  {
   "cell_type": "code",
   "execution_count": 13,
   "metadata": {},
   "outputs": [],
   "source": [
    "# It took 17 loops to find the second element in the list of 7 items. Way to go random_search"
   ]
  },
  {
   "cell_type": "markdown",
   "metadata": {},
   "source": [
    "## Linear search"
   ]
  },
  {
   "cell_type": "code",
   "execution_count": 2,
   "metadata": {},
   "outputs": [],
   "source": [
    "# There is not much to talk about it. We do this mostly in unordered list to find an element. You check the first \n",
    "# compare it to the element to be found. If both are same you return the position or you move on the next element and\n",
    "# keep on doing it till you find the element or you reach the end of the list which is not sad cause computers don't\n",
    "# feel emotions. Yet."
   ]
  },
  {
   "cell_type": "code",
   "execution_count": 3,
   "metadata": {},
   "outputs": [],
   "source": [
    "# Implimentation\n",
    "def linear_search(arr, el):\n",
    "    l = len(arr)\n",
    "    for i in range(l):\n",
    "        # Bingo, there is a match\n",
    "        if arr[i] == el:\n",
    "            # return the index of the matching element\n",
    "            return i\n",
    "    # If we didn't find anything we return -1\n",
    "    return -1"
   ]
  },
  {
   "cell_type": "code",
   "execution_count": 4,
   "metadata": {},
   "outputs": [
    {
     "data": {
      "text/plain": [
       "10"
      ]
     },
     "execution_count": 4,
     "metadata": {},
     "output_type": "execute_result"
    }
   ],
   "source": [
    "linear_search([1, 2, 3, 4, 9, 7, 6, 3, 10, 33, 12], 12)"
   ]
  },
  {
   "cell_type": "code",
   "execution_count": 5,
   "metadata": {},
   "outputs": [
    {
     "data": {
      "text/plain": [
       "-1"
      ]
     },
     "execution_count": 5,
     "metadata": {},
     "output_type": "execute_result"
    }
   ],
   "source": [
    "linear_search([1, 2, 3, 4, 9, 7, 6, 3, 10, 33, 12], 120)"
   ]
  },
  {
   "cell_type": "code",
   "execution_count": 6,
   "metadata": {},
   "outputs": [],
   "source": [
    "# That's about it"
   ]
  },
  {
   "cell_type": "markdown",
   "metadata": {},
   "source": [
    "## Binary Search"
   ]
  },
  {
   "cell_type": "markdown",
   "metadata": {},
   "source": [
    "> Suppose we have a sorted list and we want to find an element, linear search will take O(n) time on average. But we have a sorted list here. Binary search uses divide and conquer method and starts ignoring half of the list. It finds the mid point of the array then compares it with the element to be found and based on the comparison operator it ignores one side of the midpoint which is half the list. It recursively do this till we have found the element with time complexity of O(log n). That's pretty cool"
   ]
  },
  {
   "cell_type": "code",
   "execution_count": 14,
   "metadata": {},
   "outputs": [],
   "source": [
    "# In binary search we are gonna have a sorted array. We are gonna recursively look into the mid point of the array and\n",
    "# look left if it's less than mid or look right. And we are gonna find the element or it's absense in O(log n) time."
   ]
  },
  {
   "cell_type": "code",
   "execution_count": 70,
   "metadata": {},
   "outputs": [],
   "source": [
    "# Implementation\n",
    "def binary_search(arr, x, l = 0, r = None):\n",
    "    # We are gonna find x in the array arr\n",
    "    # Input\n",
    "    # arr : the array to be searched\n",
    "    # x : Find the x in the array\n",
    "    # l : where we should start looking at, by default at start of the array\n",
    "    # r : where we should stop looking, by default it should be the end of the array but we will set it first thing\n",
    "    # Output\n",
    "    # index : Position of the array where the element is found, and '-1' if not found\n",
    "    l_arr = len(arr)\n",
    "    if not r:\n",
    "        r = l_arr\n",
    "        \n",
    "    while l < r:\n",
    "        mid = (l + r)//2\n",
    "        if x == arr[mid]:\n",
    "            return mid\n",
    "        elif x < arr[mid]:\n",
    "            r = mid - 1\n",
    "        else:\n",
    "            l = mid + 1\n",
    "    return -1"
   ]
  },
  {
   "cell_type": "code",
   "execution_count": 71,
   "metadata": {},
   "outputs": [
    {
     "data": {
      "text/plain": [
       "3"
      ]
     },
     "execution_count": 71,
     "metadata": {},
     "output_type": "execute_result"
    }
   ],
   "source": [
    "arr = [ 1,3,5,7,9, 12, 15, 17, 22, 25, 27]\n",
    "binary_search(arr, 7)"
   ]
  },
  {
   "cell_type": "code",
   "execution_count": 50,
   "metadata": {},
   "outputs": [
    {
     "data": {
      "text/plain": [
       "-1"
      ]
     },
     "execution_count": 50,
     "metadata": {},
     "output_type": "execute_result"
    }
   ],
   "source": [
    "binary_search(arr, 177)"
   ]
  },
  {
   "cell_type": "code",
   "execution_count": 51,
   "metadata": {},
   "outputs": [
    {
     "data": {
      "text/plain": [
       "0"
      ]
     },
     "execution_count": 51,
     "metadata": {},
     "output_type": "execute_result"
    }
   ],
   "source": [
    "binary_search(arr, 1)"
   ]
  },
  {
   "cell_type": "code",
   "execution_count": 52,
   "metadata": {},
   "outputs": [
    {
     "data": {
      "text/plain": [
       "-1"
      ]
     },
     "execution_count": 52,
     "metadata": {},
     "output_type": "execute_result"
    }
   ],
   "source": [
    "binary_search(arr, 16)"
   ]
  },
  {
   "cell_type": "code",
   "execution_count": 47,
   "metadata": {},
   "outputs": [],
   "source": [
    "# Nice testing"
   ]
  },
  {
   "cell_type": "code",
   "execution_count": 53,
   "metadata": {},
   "outputs": [],
   "source": [
    "# It seems there is something really interesting, simple and better than binary search. "
   ]
  },
  {
   "cell_type": "markdown",
   "metadata": {},
   "source": [
    "## Interpolation Search"
   ]
  },
  {
   "cell_type": "code",
   "execution_count": 54,
   "metadata": {},
   "outputs": [],
   "source": [
    "# The idea is really simple. Binary search cut's the array in half and ignores one half. Interpolation search compares\n",
    "# the value of the element to be found, the left most element and the right most element to find a pivot (mid point \n",
    "# in case of binary search) which is probably more closer to the element we are looking for than just the mid point"
   ]
  },
  {
   "cell_type": "code",
   "execution_count": 55,
   "metadata": {},
   "outputs": [],
   "source": [
    "# We are going to use an equation to find that pivot\n",
    "# pos = lo + (x - arr[lo]) *(hi - lo)/(arr[hi] - arr[lo])\n",
    "# Where\n",
    "# lo : position of the left most and the smallest element in the array\n",
    "# hi : position of the right most and the biggest eleement in the array\n",
    "# x : is the element we are looking to find\n",
    "# arr : is the array we are searching the position of x in\n"
   ]
  },
  {
   "cell_type": "code",
   "execution_count": 75,
   "metadata": {},
   "outputs": [],
   "source": [
    "# Implementation\n",
    "def interpolation_search(arr, x, lo = 0, hi = None):\n",
    "    l_arr = len(arr)\n",
    "    if not hi:\n",
    "        hi = len(arr) - 1\n",
    "    \n",
    "    while lo < hi:\n",
    "        # Hope this had a name\n",
    "        pos = int(lo + (x - arr[lo]) *(hi - lo)/(arr[hi] - arr[lo]))\n",
    "        print(\"Pos : {}\".format(pos))\n",
    "        if pos > l_arr :\n",
    "            return -1\n",
    "        if x == arr[pos]:\n",
    "            return pos\n",
    "        if x < arr[pos]:\n",
    "            hi = pos - 1\n",
    "        else:\n",
    "            lo = pos + 1\n",
    "    return -1"
   ]
  },
  {
   "cell_type": "code",
   "execution_count": 76,
   "metadata": {},
   "outputs": [
    {
     "name": "stdout",
     "output_type": "stream",
     "text": [
      "Pos : 2\n",
      "Pos : 3\n"
     ]
    },
    {
     "data": {
      "text/plain": [
       "3"
      ]
     },
     "execution_count": 76,
     "metadata": {},
     "output_type": "execute_result"
    }
   ],
   "source": [
    "# Testing\n",
    "arr = [ 1,3,5,7,9, 12, 15, 17, 22, 25, 27]\n",
    "interpolation_search(arr, 7)"
   ]
  },
  {
   "cell_type": "code",
   "execution_count": 77,
   "metadata": {},
   "outputs": [
    {
     "name": "stdout",
     "output_type": "stream",
     "text": [
      "Pos : 10\n"
     ]
    },
    {
     "data": {
      "text/plain": [
       "10"
      ]
     },
     "execution_count": 77,
     "metadata": {},
     "output_type": "execute_result"
    }
   ],
   "source": [
    "interpolation_search(arr, 27)"
   ]
  },
  {
   "cell_type": "code",
   "execution_count": 78,
   "metadata": {},
   "outputs": [
    {
     "name": "stdout",
     "output_type": "stream",
     "text": [
      "Pos : 0\n"
     ]
    },
    {
     "data": {
      "text/plain": [
       "-1"
      ]
     },
     "execution_count": 78,
     "metadata": {},
     "output_type": "execute_result"
    }
   ],
   "source": [
    "interpolation_search(arr, -1)"
   ]
  },
  {
   "cell_type": "code",
   "execution_count": 79,
   "metadata": {},
   "outputs": [
    {
     "name": "stdout",
     "output_type": "stream",
     "text": [
      "Pos : 94\n"
     ]
    },
    {
     "data": {
      "text/plain": [
       "-1"
      ]
     },
     "execution_count": 79,
     "metadata": {},
     "output_type": "execute_result"
    }
   ],
   "source": [
    "interpolation_search(arr, 247)"
   ]
  },
  {
   "cell_type": "code",
   "execution_count": null,
   "metadata": {},
   "outputs": [],
   "source": []
  }
 ],
 "metadata": {
  "kernelspec": {
   "display_name": "Python 3",
   "language": "python",
   "name": "python3"
  },
  "language_info": {
   "codemirror_mode": {
    "name": "ipython",
    "version": 3
   },
   "file_extension": ".py",
   "mimetype": "text/x-python",
   "name": "python",
   "nbconvert_exporter": "python",
   "pygments_lexer": "ipython3",
   "version": "3.8.3"
  }
 },
 "nbformat": 4,
 "nbformat_minor": 4
}
