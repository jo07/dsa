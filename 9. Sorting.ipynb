{
 "cells": [
  {
   "cell_type": "markdown",
   "metadata": {},
   "source": [
    "# Sorting"
   ]
  },
  {
   "cell_type": "code",
   "execution_count": 2,
   "metadata": {},
   "outputs": [],
   "source": [
    "# Sorting is bringing order to the data present in a data structure. There are dozens of sorting algorithm varying \n",
    "# in the method and the implementation. We will go through some. But lets first understand why sorting is important \n",
    "# and some of the problems that can be solved using different sorting techniques"
   ]
  },
  {
   "cell_type": "markdown",
   "metadata": {},
   "source": [
    "### Problems sorted by sorting"
   ]
  },
  {
   "cell_type": "code",
   "execution_count": 3,
   "metadata": {},
   "outputs": [],
   "source": [
    "# 1. Searching on a list is easier if it's sorted\n",
    "# 2. Finding duplicates in a list is easier when it's sorted\n",
    "# 3. If you want to find the Kth element in a list, you use sorted one\n",
    "# 4. You want to analyse the data distribution, it's easier if you sort the list.\n",
    "# ETC"
   ]
  },
  {
   "cell_type": "markdown",
   "metadata": {},
   "source": [
    "## Bubble sort"
   ]
  },
  {
   "cell_type": "markdown",
   "metadata": {},
   "source": [
    "> As the name implies, there is a bubble which goes from start to finish of a list, comparising or two adjacent elements. If those elements are not in correct order then the bubble swaps them and then move to the next step. It does this swaping thing, n times, n being the number of elements in the list to be sorted. As the bubble moves each time, it pushes the greatest element in the array to the last position, hence it doesn't compare it in the next iteration. So in each iteration, it compares one less element as it's already sorted."
   ]
  },
  {
   "cell_type": "code",
   "execution_count": 4,
   "metadata": {},
   "outputs": [],
   "source": [
    "# Implementation\n",
    "def bubble_sort(arr):\n",
    "    l = len(arr)\n",
    "    for i in range(l):\n",
    "        for j in range(l-i-1):\n",
    "            # check condition\n",
    "            if arr[j] > arr[j+1]:\n",
    "                # swapping if the elements are not in order\n",
    "                arr[j], arr[j+1] = arr[j+1], arr[j]\n",
    "    return arr"
   ]
  },
  {
   "cell_type": "code",
   "execution_count": 5,
   "metadata": {},
   "outputs": [
    {
     "data": {
      "text/plain": [
       "[2, 6, 11, 19, 27, 31, 45, 121]"
      ]
     },
     "execution_count": 5,
     "metadata": {},
     "output_type": "execute_result"
    }
   ],
   "source": [
    "# Let's test it\n",
    "list1 = [19,2,31,45,6,11,121,27]\n",
    "bubble_sort(list1)"
   ]
  },
  {
   "cell_type": "code",
   "execution_count": 8,
   "metadata": {},
   "outputs": [],
   "source": [
    "# cool. We can improve this algo by adding a new param to check if the array gets sorted before it going through\n",
    "# n loops. This is not part of bubble sort but it optimises the code a bit, so let's try it out.\n",
    "\n",
    "# Implementation\n",
    "def bubble_sort(arr):\n",
    "    l = len(arr)\n",
    "    for i in range(l):\n",
    "        # Inside every loop we set the already_sorted tag to true\n",
    "        already_sorted = True\n",
    "        for j in range(l-i-1):\n",
    "            # check condition\n",
    "            if arr[j] > arr[j+1]:\n",
    "                # swapping if the elements are not in order\n",
    "                arr[j], arr[j+1] = arr[j+1], arr[j]\n",
    "                # if in any loop there is a swap, it means it's not already_sorted. So set it to false\n",
    "                already_sorted = False\n",
    "        # If there was no occurence of swapping in a loop, could be the first loop or second last loop, it means its\n",
    "        # already sorted and we can break the for loop now\n",
    "        if already_sorted:\n",
    "            print(\"breaking at {}th loop\".format(i))\n",
    "            break\n",
    "    return arr"
   ]
  },
  {
   "cell_type": "code",
   "execution_count": 9,
   "metadata": {},
   "outputs": [
    {
     "name": "stdout",
     "output_type": "stream",
     "text": [
      "breaking at 3th loop\n"
     ]
    },
    {
     "data": {
      "text/plain": [
       "[2, 6, 11, 19, 27, 31, 45, 121]"
      ]
     },
     "execution_count": 9,
     "metadata": {},
     "output_type": "execute_result"
    }
   ],
   "source": [
    "# Testing the optimised code\n",
    "list1 = [19,2,31,45,6,11,121,27]\n",
    "bubble_sort(list1)"
   ]
  },
  {
   "cell_type": "code",
   "execution_count": 10,
   "metadata": {},
   "outputs": [],
   "source": [
    "# It was sorted in the third loop itself. We saved 4 loops. We should be proud. "
   ]
  },
  {
   "cell_type": "code",
   "execution_count": 11,
   "metadata": {},
   "outputs": [],
   "source": [
    "# Big O notation.\n",
    "# We can either use a timeit module to measure the time it takes to execute multiple modules but a better approach to \n",
    "# understand the relationship between the length of input n and the time to execute, which is usually denoted in Big O\n",
    "# notation\n",
    "# O(1) : Constant time, like accessing a value from a hash table\n",
    "# O(n) : Linear time, finding the lenght of a list or doing an operation on each element of the list\n",
    "# O(n**2) : Quadratic time, if any item of the list needs to be visited multiple times, like in the case of bubble sort\n",
    "# O(2**n) : Exponential time. Very inefficient. Execution time grows expenentially as the length of the input array\n",
    "#           increases. NP hard problems like travelling salesman problem, grows expenentially in time\n",
    "# O(log n) : Logarithmic time, Searching a binary tree. Very efficient. Time grows linearly when input length grows\n",
    "#            exponentially. It's really crazy\n"
   ]
  },
  {
   "cell_type": "markdown",
   "metadata": {},
   "source": [
    "## Insertion Sort"
   ]
  },
  {
   "cell_type": "markdown",
   "metadata": {},
   "source": [
    "> Insertion sort starts by picking an element from the array and \"inserting\" it in the right position in the array. Just like bubble sort, insertion sort also creates a sorted list from the begining. Each new element gets compared to element in this list and gets inserted at the right position."
   ]
  },
  {
   "cell_type": "code",
   "execution_count": 12,
   "metadata": {},
   "outputs": [],
   "source": [
    "# Implementation\n",
    "def insertion_sort(arr):\n",
    "    l = len(arr)\n",
    "    # Since element at index 0 is already sorted, we can begin from the next element\n",
    "    for i in range(1, l):\n",
    "        curr_item = arr[i]\n",
    "        # we need to find the position of element before our current item\n",
    "        j = i - 1\n",
    "        # next we keep on comparing each element with curr element and move to the left side of the sorted array\n",
    "        while j >= 0 and arr[j] > curr_item:\n",
    "            # if the element at j is bigger than curr_item, move it one position to the right\n",
    "            arr[j + 1] = arr[j]\n",
    "            \n",
    "            # now we move to the position one before the current one\n",
    "            j -= 1\n",
    "        # Once we found the element which is lesser than the curr_item, we can push the curr_item, on the position\n",
    "        # right to it\n",
    "        arr[j+1] = curr_item\n",
    "    # after this for loop we get a sorted list\n",
    "    return arr\n",
    "        "
   ]
  },
  {
   "cell_type": "code",
   "execution_count": 14,
   "metadata": {},
   "outputs": [
    {
     "data": {
      "text/plain": [
       "[2, 6, 11, 19, 27, 31, 45, 121]"
      ]
     },
     "execution_count": 14,
     "metadata": {},
     "output_type": "execute_result"
    }
   ],
   "source": [
    "# Testing\n",
    "list1 = [19,2,31,45,6,11,121,27]\n",
    "insertion_sort(list1)"
   ]
  },
  {
   "cell_type": "code",
   "execution_count": 15,
   "metadata": {},
   "outputs": [],
   "source": [
    "# Hooray. This looks good"
   ]
  },
  {
   "cell_type": "markdown",
   "metadata": {},
   "source": [
    "### Recursion & Divide and conquer"
   ]
  },
  {
   "cell_type": "markdown",
   "metadata": {},
   "source": [
    "> Divide and conquer is a powerful algorithmic concept used to solve complex problems. Basically it divides the problem into smaller parts and then divide the smaller parts into even smaller part until the smaller problem in hand is totally manageble to solve. After we have conquered these smaller problems we then merge them together to solve the bigger problem."
   ]
  },
  {
   "cell_type": "markdown",
   "metadata": {},
   "source": [
    "> Recursion is a programming technique which is a way of solving the divide and conquer problem. Basically it's a function which calls itself and the final output is the merging of all these smaller problems"
   ]
  },
  {
   "cell_type": "markdown",
   "metadata": {},
   "source": [
    "## Merge sort"
   ]
  },
  {
   "cell_type": "code",
   "execution_count": 16,
   "metadata": {},
   "outputs": [],
   "source": [
    "# Merge sort uses the Divide and conquer methodology to sort a big list by dividing it into smaller and even smaller\n",
    "# pieces. Merge sort divides the input list into half and recursively calls merge sort on these halfs. After dividing \n",
    "# it to the lowest level possible it starts merging those results together and we get a sorted list at the end, which\n",
    "# is sooper efficient"
   ]
  },
  {
   "cell_type": "code",
   "execution_count": 17,
   "metadata": {},
   "outputs": [],
   "source": [
    "# Implementation\n",
    "# There are two parts to merge sort.\n",
    "# 1. Merge. Has two sorted arrays as input, we compare each element and keep pushing the combined sorted element in a \n",
    "#    in a new sorted list. Then return that sorted list\n",
    "# 2. Divider. It's the main function that divides the array and calls merge method on them\n",
    "def merge(left, right):\n",
    "    # If either or the list is empty, there is nothing more to be done, just return the other list\n",
    "    if not len(left):\n",
    "        return right\n",
    "    \n",
    "    if not (len(right)):\n",
    "        return left\n",
    "    \n",
    "    result = []\n",
    "    \n",
    "    # n_max should be the length of the result set once merging is completed\n",
    "    \n",
    "    l_left, l_right = len(left), len(right)\n",
    "    n_max = l_left + l_right\n",
    "    \n",
    "    # comparison starts from the first element of both the list\n",
    "    left_index = right_index = 0\n",
    "    \n",
    "    # While loop goes on till \n",
    "    while len(result) < n_max:\n",
    "        # now we compare the elements at respective index of left and right list\n",
    "        if left[left_index] < right[right_index]:\n",
    "            # if element at left index is smaller, we append it to the result set\n",
    "            result.append(left[left_index])\n",
    "            # then we move the left_index to the next element\n",
    "            left_index += 1\n",
    "        else:\n",
    "            # We do the same with right index if right index position have the smaller element\n",
    "            result.append(right[right_index])\n",
    "            right_index += 1\n",
    "            \n",
    "        # There might be cases when one of the list indices have reached end of the array. Then all there is left is \n",
    "        # the rest of the other array, which is already sorted. So we just append the rest of the elements of the\n",
    "        # other array to the end of the result set just as it is. And boom\n",
    "        if left_index == l_left:\n",
    "            # Add to the result set what is left in the right list\n",
    "            result += right[right_index: ]\n",
    "            # We can exit the while loop now since there is nothing more to be done\n",
    "            break\n",
    "            \n",
    "        if right_index == l_right:\n",
    "            result += left[left_index: ]\n",
    "            break\n",
    "    return result"
   ]
  },
  {
   "cell_type": "code",
   "execution_count": 18,
   "metadata": {},
   "outputs": [
    {
     "data": {
      "text/plain": [
       "[2, 4]"
      ]
     },
     "execution_count": 18,
     "metadata": {},
     "output_type": "execute_result"
    }
   ],
   "source": [
    "# Let's test\n",
    "merge([4], [2])"
   ]
  },
  {
   "cell_type": "code",
   "execution_count": 19,
   "metadata": {},
   "outputs": [
    {
     "data": {
      "text/plain": [
       "[4, 7]"
      ]
     },
     "execution_count": 19,
     "metadata": {},
     "output_type": "execute_result"
    }
   ],
   "source": [
    "merge([4, 7], [])"
   ]
  },
  {
   "cell_type": "code",
   "execution_count": 20,
   "metadata": {},
   "outputs": [
    {
     "data": {
      "text/plain": [
       "[2, 6]"
      ]
     },
     "execution_count": 20,
     "metadata": {},
     "output_type": "execute_result"
    }
   ],
   "source": [
    "merge([], [2, 6])"
   ]
  },
  {
   "cell_type": "code",
   "execution_count": 21,
   "metadata": {},
   "outputs": [
    {
     "data": {
      "text/plain": [
       "[2, 3, 4, 5, 6, 7, 8, 9, 10]"
      ]
     },
     "execution_count": 21,
     "metadata": {},
     "output_type": "execute_result"
    }
   ],
   "source": [
    "merge([4, 6, 8, 9], [2, 3, 5, 7, 10])"
   ]
  },
  {
   "cell_type": "code",
   "execution_count": 22,
   "metadata": {},
   "outputs": [],
   "source": [
    "# Awesome. We have conquered now we must divide and call the conquerer"
   ]
  },
  {
   "cell_type": "code",
   "execution_count": 26,
   "metadata": {},
   "outputs": [],
   "source": [
    "def merge_sort(arr):\n",
    "    l_arr = len(arr)\n",
    "    # if the array has just one element, we can't divide it anymore. So we just return it\n",
    "    if l_arr < 2:\n",
    "        return arr\n",
    "    \n",
    "    # finding the index at where we need to divide the list. It's obviously at the middle\n",
    "    mid = l_arr//2\n",
    "    \n",
    "    # We are gonna call merge and we are going to pass the merge_sort function twice with each half of the array\n",
    "    # The inner merge sort is going to divide the already divided array further and further till there is only\n",
    "    # one element left in it to sort. Those arrays are going to be fed into merge method and they are gonna merge it\n",
    "    # and return the merged sorted array till the list is sorted and whole again\n",
    "    return merge( merge_sort(arr[ :mid]), merge_sort(arr[mid: ]))"
   ]
  },
  {
   "cell_type": "code",
   "execution_count": 27,
   "metadata": {},
   "outputs": [
    {
     "data": {
      "text/plain": [
       "[2, 6, 11, 19, 27, 31, 45, 121]"
      ]
     },
     "execution_count": 27,
     "metadata": {},
     "output_type": "execute_result"
    }
   ],
   "source": [
    "# Testing it out\n",
    "list1 = [19,2,31,45,6,11,121,27]\n",
    "merge_sort(list1)"
   ]
  },
  {
   "cell_type": "code",
   "execution_count": 28,
   "metadata": {},
   "outputs": [],
   "source": [
    "# Cool"
   ]
  },
  {
   "cell_type": "markdown",
   "metadata": {},
   "source": [
    "## Quick Sort"
   ]
  },
  {
   "cell_type": "markdown",
   "metadata": {},
   "source": [
    "> Quick sort finds a pivot in the array to be sorted, puts all the element smaller than the pivot on the low_array and rest of the elements in the high_array. It keeps on recursively calling quick sort on both of these elements till there is less than 2 elements in the array. Then it combines all these arrays to return the sorted list. Divide and conquer using recursion"
   ]
  },
  {
   "cell_type": "code",
   "execution_count": 29,
   "metadata": {},
   "outputs": [],
   "source": [
    "# Implementation\n",
    "\n",
    "# We use randomness to find the pivot value\n",
    "from random import randint\n",
    "\n",
    "def quick_sort(arr):\n",
    "    # If array has less than 2 elements to sort there is nothing to be done, so just return the arr\n",
    "    if len(arr) < 2:\n",
    "        return arr\n",
    "    low, same, high = [], [], []\n",
    "    \n",
    "    # We make the element at a random position the pivot\n",
    "    pivot = arr[randint(0, len(arr)-1)]\n",
    "    \n",
    "    for item in arr:\n",
    "        if item < pivot:\n",
    "            low.append(item)\n",
    "        elif item > pivot:\n",
    "            high.append(item)\n",
    "        # if the item is same as pivot\n",
    "        else:\n",
    "            same.append(item)\n",
    "    # Return statement calls the quick_sort method recursively and that too twice. It also add the results together\n",
    "    return quick_sort(low) + same + quick_sort(high)"
   ]
  },
  {
   "cell_type": "code",
   "execution_count": 31,
   "metadata": {},
   "outputs": [
    {
     "data": {
      "text/plain": [
       "[2, 6, 11, 19, 27, 31, 45, 121]"
      ]
     },
     "execution_count": 31,
     "metadata": {},
     "output_type": "execute_result"
    }
   ],
   "source": [
    "# Testing \n",
    "list1 = [19,2,31,45,6,11,121,27]\n",
    "quick_sort(list1)"
   ]
  },
  {
   "cell_type": "code",
   "execution_count": 32,
   "metadata": {},
   "outputs": [],
   "source": [
    "# Nice"
   ]
  },
  {
   "cell_type": "markdown",
   "metadata": {},
   "source": [
    "## TimSort"
   ]
  },
  {
   "cell_type": "markdown",
   "metadata": {},
   "source": [
    "> Default sorting algorithm in python uses best of insertion sort which is good at sorting small sets and merge sort which is good at sorting long arrays. Timsort divides the array into bins of size min_run and sort them using insertion sort. We need to change the insertion sort algo a bit so that we can sort it on the same array instead of wasting memory by creating a new array. Then those bins are going to be put together using merge sort. Tada!!!"
   ]
  },
  {
   "cell_type": "code",
   "execution_count": null,
   "metadata": {},
   "outputs": [],
   "source": []
  }
 ],
 "metadata": {
  "kernelspec": {
   "display_name": "Python 3",
   "language": "python",
   "name": "python3"
  },
  "language_info": {
   "codemirror_mode": {
    "name": "ipython",
    "version": 3
   },
   "file_extension": ".py",
   "mimetype": "text/x-python",
   "name": "python",
   "nbconvert_exporter": "python",
   "pygments_lexer": "ipython3",
   "version": "3.8.3"
  }
 },
 "nbformat": 4,
 "nbformat_minor": 4
}
