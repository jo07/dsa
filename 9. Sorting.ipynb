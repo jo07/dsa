{
 "cells": [
  {
   "cell_type": "markdown",
   "metadata": {},
   "source": [
    "# Sorting"
   ]
  },
  {
   "cell_type": "code",
   "execution_count": 2,
   "metadata": {},
   "outputs": [],
   "source": [
    "# Sorting is bringing order to the data present in a data structure. There are dozens of sorting algorithm varying \n",
    "# in the method and the implementation. We will go through some. But lets first understand why sorting is important \n",
    "# and some of the problems that can be solved using different sorting techniques"
   ]
  },
  {
   "cell_type": "markdown",
   "metadata": {},
   "source": [
    "### Problems sorted by sorting"
   ]
  },
  {
   "cell_type": "code",
   "execution_count": 3,
   "metadata": {},
   "outputs": [],
   "source": [
    "# 1. Searching on a list is easier if it's sorted\n",
    "# 2. Finding duplicates in a list is easier when it's sorted\n",
    "# 3. If you want to find the Kth element in a list, you use sorted one\n",
    "# 4. You want to analyse the data distribution, it's easier if you sort the list.\n",
    "# ETC"
   ]
  },
  {
   "cell_type": "markdown",
   "metadata": {},
   "source": [
    "## Bubble sort"
   ]
  },
  {
   "cell_type": "markdown",
   "metadata": {},
   "source": [
    "> As the name implies, there is a bubble which goes from start to finish of a list, comparising or two adjacent elements. If those elements are not in correct order then the bubble swaps them and then move to the next step. It does this swaping thing, n times, n being the number of elements in the list to be sorted. As the bubble moves each time, it pushes the greatest element in the array to the last position, hence it doesn't compare it in the next iteration. So in each iteration, it compares one less element as it's already sorted."
   ]
  },
  {
   "cell_type": "code",
   "execution_count": 4,
   "metadata": {},
   "outputs": [],
   "source": [
    "# Implementation\n",
    "def bubble_sort(arr):\n",
    "    l = len(arr)\n",
    "    for i in range(l):\n",
    "        for j in range(l-i-1):\n",
    "            # check condition\n",
    "            if arr[j] > arr[j+1]:\n",
    "                # swapping if the elements are not in order\n",
    "                arr[j], arr[j+1] = arr[j+1], arr[j]\n",
    "    return arr"
   ]
  },
  {
   "cell_type": "code",
   "execution_count": 5,
   "metadata": {},
   "outputs": [
    {
     "data": {
      "text/plain": [
       "[2, 6, 11, 19, 27, 31, 45, 121]"
      ]
     },
     "execution_count": 5,
     "metadata": {},
     "output_type": "execute_result"
    }
   ],
   "source": [
    "# Let's test it\n",
    "list1 = [19,2,31,45,6,11,121,27]\n",
    "bubble_sort(list1)"
   ]
  },
  {
   "cell_type": "code",
   "execution_count": 8,
   "metadata": {},
   "outputs": [],
   "source": [
    "# cool. We can improve this algo by adding a new param to check if the array gets sorted before it going through\n",
    "# n loops. This is not part of bubble sort but it optimises the code a bit, so let's try it out.\n",
    "\n",
    "# Implementation\n",
    "def bubble_sort(arr):\n",
    "    l = len(arr)\n",
    "    for i in range(l):\n",
    "        # Inside every loop we set the already_sorted tag to true\n",
    "        already_sorted = True\n",
    "        for j in range(l-i-1):\n",
    "            # check condition\n",
    "            if arr[j] > arr[j+1]:\n",
    "                # swapping if the elements are not in order\n",
    "                arr[j], arr[j+1] = arr[j+1], arr[j]\n",
    "                # if in any loop there is a swap, it means it's not already_sorted. So set it to false\n",
    "                already_sorted = False\n",
    "        # If there was no occurence of swapping in a loop, could be the first loop or second last loop, it means its\n",
    "        # already sorted and we can break the for loop now\n",
    "        if already_sorted:\n",
    "            print(\"breaking at {}th loop\".format(i))\n",
    "            break\n",
    "    return arr"
   ]
  },
  {
   "cell_type": "code",
   "execution_count": 9,
   "metadata": {},
   "outputs": [
    {
     "name": "stdout",
     "output_type": "stream",
     "text": [
      "breaking at 3th loop\n"
     ]
    },
    {
     "data": {
      "text/plain": [
       "[2, 6, 11, 19, 27, 31, 45, 121]"
      ]
     },
     "execution_count": 9,
     "metadata": {},
     "output_type": "execute_result"
    }
   ],
   "source": [
    "# Testing the optimised code\n",
    "list1 = [19,2,31,45,6,11,121,27]\n",
    "bubble_sort(list1)"
   ]
  },
  {
   "cell_type": "code",
   "execution_count": 10,
   "metadata": {},
   "outputs": [],
   "source": [
    "# It was sorted in the third loop itself. We saved 4 loops. We should be proud. "
   ]
  },
  {
   "cell_type": "code",
   "execution_count": 11,
   "metadata": {},
   "outputs": [],
   "source": [
    "# Big O notation.\n",
    "# We can either use a timeit module to measure the time it takes to execute multiple modules but a better approach to \n",
    "# understand the relationship between the length of input n and the time to execute, which is usually denoted in Big O\n",
    "# notation\n",
    "# O(1) : Constant time, like accessing a value from a hash table\n",
    "# O(n) : Linear time, finding the lenght of a list or doing an operation on each element of the list\n",
    "# O(n**2) : Quadratic time, if any item of the list needs to be visited multiple times, like in the case of bubble sort\n",
    "# O(2**n) : Exponential time. Very inefficient. Execution time grows expenentially as the length of the input array\n",
    "#           increases. NP hard problems like travelling salesman problem, grows expenentially in time\n",
    "# O(log n) : Logarithmic time, Searching a binary tree. Very efficient. Time grows linearly when input length grows\n",
    "#            exponentially. It's really crazy\n"
   ]
  },
  {
   "cell_type": "markdown",
   "metadata": {},
   "source": [
    "## Insertion Sort"
   ]
  },
  {
   "cell_type": "markdown",
   "metadata": {},
   "source": [
    "> Insertion sort starts by picking an element from the array and \"inserting\" it in the right position in the array. Just like bubble sort, insertion sort also creates a sorted list from the begining. Each new element gets compared to element in this list and gets inserted at the right position."
   ]
  },
  {
   "cell_type": "code",
   "execution_count": 12,
   "metadata": {},
   "outputs": [],
   "source": [
    "# Implementation\n",
    "def insertion_sort(arr):\n",
    "    l = len(arr)\n",
    "    # Since element at index 0 is already sorted, we can begin from the next element\n",
    "    for i in range(1, l):\n",
    "        curr_item = arr[i]\n",
    "        # we need to find the position of element before our current item\n",
    "        j = i - 1\n",
    "        # next we keep on comparing each element with curr element and move to the left side of the sorted array\n",
    "        while j >= 0 and arr[j] > curr_item:\n",
    "            # if the element at j is bigger than curr_item, move it one position to the right\n",
    "            arr[j + 1] = arr[j]\n",
    "            \n",
    "            # now we move to the position one before the current one\n",
    "            j -= 1\n",
    "        # Once we found the element which is lesser than the curr_item, we can push the curr_item, on the position\n",
    "        # right to it\n",
    "        arr[j+1] = curr_item\n",
    "    # after this for loop we get a sorted list\n",
    "    return arr\n",
    "        "
   ]
  },
  {
   "cell_type": "code",
   "execution_count": 14,
   "metadata": {},
   "outputs": [
    {
     "data": {
      "text/plain": [
       "[2, 6, 11, 19, 27, 31, 45, 121]"
      ]
     },
     "execution_count": 14,
     "metadata": {},
     "output_type": "execute_result"
    }
   ],
   "source": [
    "# Testing\n",
    "list1 = [19,2,31,45,6,11,121,27]\n",
    "insertion_sort(list1)"
   ]
  },
  {
   "cell_type": "code",
   "execution_count": 15,
   "metadata": {},
   "outputs": [],
   "source": [
    "# Hooray. This looks good"
   ]
  },
  {
   "cell_type": "code",
   "execution_count": null,
   "metadata": {},
   "outputs": [],
   "source": []
  }
 ],
 "metadata": {
  "kernelspec": {
   "display_name": "Python 3",
   "language": "python",
   "name": "python3"
  },
  "language_info": {
   "codemirror_mode": {
    "name": "ipython",
    "version": 3
   },
   "file_extension": ".py",
   "mimetype": "text/x-python",
   "name": "python",
   "nbconvert_exporter": "python",
   "pygments_lexer": "ipython3",
   "version": "3.8.3"
  }
 },
 "nbformat": 4,
 "nbformat_minor": 4
}
