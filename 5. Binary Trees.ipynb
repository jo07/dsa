{
 "cells": [
  {
   "cell_type": "markdown",
   "metadata": {},
   "source": [
    "## Trees"
   ]
  },
  {
   "cell_type": "code",
   "execution_count": 1,
   "metadata": {},
   "outputs": [],
   "source": [
    "# Let's talk about trees and it's not very different from the green ones out there, which keeps disappearing each year,\n",
    "# in terms of parts. Like they both have roots, and branches(well kinda) and leaves.\n",
    "# But let's talk about tree data structure and how data is stored in them cause we can't implement the green ones.\n",
    "# The first items always goes in the root node. Yes it also have nodes like linked list and graphs, which we will see\n",
    "# in the near future.\n",
    "# The root will store a data and will have links to other nodes called as it's children. And these children will call \n",
    "# the root node thier parents. These children will also store data and can have more children. \n",
    "# And each generation of children is said to belong to a level. Root is level 0 and then the children of root are \n",
    "# level 1 and so on\n",
    "# Then there are leaf nodes. Those are the nodes whom doesn't have any children. I know that's sad. \n",
    "# But they don't want it, so can't complain.\n",
    "# That's about it. Now binary trees are a subset of Trees which we will explore more in this session"
   ]
  },
  {
   "cell_type": "markdown",
   "metadata": {},
   "source": [
    "## Binary trees"
   ]
  },
  {
   "cell_type": "code",
   "execution_count": 2,
   "metadata": {},
   "outputs": [],
   "source": [
    "# Binary trees are like trees growing under countries with strict two child policy. They can at max have two children\n",
    "# And ...\n",
    "# No that's it. That's all the difference they have. \n",
    "# So one child is called left node and other is called the right node. So a node( a root is also a node) can have \n",
    "# no child (leaf node), one child (they are not so special) or two child. There's no other choice"
   ]
  },
  {
   "cell_type": "code",
   "execution_count": 3,
   "metadata": {},
   "outputs": [],
   "source": [
    "# Slight change of plans. We won't be building just a binary tree but a binary search tree. Where order matters"
   ]
  },
  {
   "cell_type": "markdown",
   "metadata": {},
   "source": [
    "# Binary Search Tree"
   ]
  },
  {
   "cell_type": "code",
   "execution_count": null,
   "metadata": {},
   "outputs": [],
   "source": [
    "# So this one like a normal binary tree can only have upto two kids but the left kid must be smaller than the root\n",
    "# and the right one must be bigger than the root. Or vice versa.\n"
   ]
  },
  {
   "cell_type": "code",
   "execution_count": 4,
   "metadata": {},
   "outputs": [],
   "source": [
    "# Methods\n",
    "# 1. Okay, Insert. We always need an insert function\n",
    "# 2. Search for an element, given a tree\n",
    "# 3. Tree traversal. Print all the elements. Using recursion\n",
    "# Let the fun begin"
   ]
  },
  {
   "cell_type": "code",
   "execution_count": null,
   "metadata": {},
   "outputs": [],
   "source": [
    "# Implementation\n"
   ]
  }
 ],
 "metadata": {
  "kernelspec": {
   "display_name": "Python 3",
   "language": "python",
   "name": "python3"
  },
  "language_info": {
   "codemirror_mode": {
    "name": "ipython",
    "version": 3
   },
   "file_extension": ".py",
   "mimetype": "text/x-python",
   "name": "python",
   "nbconvert_exporter": "python",
   "pygments_lexer": "ipython3",
   "version": "3.8.3"
  }
 },
 "nbformat": 4,
 "nbformat_minor": 4
}
