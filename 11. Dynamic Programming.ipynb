{
 "cells": [
  {
   "cell_type": "markdown",
   "metadata": {},
   "source": [
    "# Dynamic Programming"
   ]
  },
  {
   "cell_type": "code",
   "execution_count": 2,
   "metadata": {},
   "outputs": [],
   "source": [
    "# When you are starting to learn to code all you care is about getting the correct results. But when you become a pro \n",
    "# you have to look at the space and time complexities of such problems. Dynamic programming is something that will \n",
    "# help you optimize some problems/algorithms"
   ]
  },
  {
   "cell_type": "markdown",
   "metadata": {},
   "source": [
    "> Dynamic program optimises code by storing certain values of function call which might be used later. Instead of calculating it all over again why not store it the first time and use it throughout the computation. It saves time and space. Efficient coding"
   ]
  },
  {
   "cell_type": "code",
   "execution_count": 3,
   "metadata": {},
   "outputs": [],
   "source": [
    "# The most basic example to show off for dynamic programming would be of recursive functions like fibonacci series or\n",
    "# finding factorials. Let's look at normal implementation of fibonacci series"
   ]
  },
  {
   "cell_type": "code",
   "execution_count": 7,
   "metadata": {},
   "outputs": [],
   "source": [
    "# Implementation : Fibonacci series, the boring method\n",
    "def fibonacci(n):\n",
    "    # Input\n",
    "    # n : the position of the fibonacci series element to be printed\n",
    "    # Output\n",
    "    # print the nth number in fibonacci series\n",
    "    if n <= 1:\n",
    "        return n\n",
    "    else:\n",
    "        return fibonacci(n - 1) + fibonacci(n -2)"
   ]
  },
  {
   "cell_type": "code",
   "execution_count": 8,
   "metadata": {},
   "outputs": [
    {
     "data": {
      "text/plain": [
       "5"
      ]
     },
     "execution_count": 8,
     "metadata": {},
     "output_type": "execute_result"
    }
   ],
   "source": [
    "# Testing\n",
    "fibonacci(5)"
   ]
  },
  {
   "cell_type": "code",
   "execution_count": 9,
   "metadata": {},
   "outputs": [
    {
     "data": {
      "text/plain": [
       "1"
      ]
     },
     "execution_count": 9,
     "metadata": {},
     "output_type": "execute_result"
    }
   ],
   "source": [
    "fibonacci(1)"
   ]
  },
  {
   "cell_type": "code",
   "execution_count": 10,
   "metadata": {},
   "outputs": [
    {
     "name": "stdout",
     "output_type": "stream",
     "text": [
      "0\n",
      "1\n",
      "1\n",
      "2\n",
      "3\n",
      "5\n",
      "8\n",
      "13\n",
      "21\n",
      "34\n"
     ]
    }
   ],
   "source": [
    "for i in range(10):\n",
    "    print(fibonacci(i))"
   ]
  },
  {
   "cell_type": "code",
   "execution_count": 11,
   "metadata": {},
   "outputs": [],
   "source": [
    "# This looks all good but see how many times the fibonacci function needs to be called to find the 10th elememt?"
   ]
  },
  {
   "cell_type": "code",
   "execution_count": 12,
   "metadata": {},
   "outputs": [],
   "source": [
    "# It's gonna call fibonacci(9) and add it to fibonacci(8). And each of those are gonna call this function recursively,\n",
    "# that too multiple times. fibonacci(0) and fibonacci(1) are gonna be the leaf nodes everytime if this recursive call\n",
    "# is put inside a tree. Along comes dynamic programming."
   ]
  },
  {
   "cell_type": "markdown",
   "metadata": {},
   "source": [
    "## Bottoms up (Tabulation)"
   ]
  },
  {
   "cell_type": "markdown",
   "metadata": {},
   "source": [
    "> What we did here was bottom up approach or tabulation. We stored the base case, in this case fib(0) and fib(1) and kept on finding the next value till we reach the solution. We used a list or array to store the results"
   ]
  },
  {
   "cell_type": "code",
   "execution_count": 16,
   "metadata": {},
   "outputs": [],
   "source": [
    "# Implementation : Fibonacci series - Dynamic programming\n",
    "def fibonacci_dp(n):\n",
    "    # Input\n",
    "    # n : the position of the fibonacci series element to be printed\n",
    "    # Output\n",
    "    # print the nth number in fibonacci series\n",
    "    \n",
    "    # Initializing the first two elements\n",
    "    f = [0, 1]\n",
    "    if n <2:\n",
    "        return f[n]\n",
    "    for i in range(2, n+1):\n",
    "        # next value is calculated using just the previous two values at pos i-1, i-2\n",
    "        f.append(f[i-1] + f[i-2])\n",
    "    return f[n]"
   ]
  },
  {
   "cell_type": "code",
   "execution_count": 17,
   "metadata": {},
   "outputs": [
    {
     "name": "stdout",
     "output_type": "stream",
     "text": [
      "0\n",
      "1\n",
      "1\n",
      "2\n",
      "3\n",
      "5\n",
      "8\n",
      "13\n",
      "21\n",
      "34\n"
     ]
    }
   ],
   "source": [
    "for i in range(10):\n",
    "    print(fibonacci_dp(i))"
   ]
  },
  {
   "cell_type": "code",
   "execution_count": 18,
   "metadata": {},
   "outputs": [],
   "source": [
    "# Perfect. This is going to be much more linear since it's gonna need to store the values of f[i-1], f[i-2] only once \n",
    "# for any value of i"
   ]
  },
  {
   "cell_type": "markdown",
   "metadata": {},
   "source": [
    "### Further improvements"
   ]
  },
  {
   "cell_type": "code",
   "execution_count": 19,
   "metadata": {},
   "outputs": [],
   "source": [
    "# Instead of storing the entire list, we can just store the last two elements and optimize it for space"
   ]
  },
  {
   "cell_type": "code",
   "execution_count": 20,
   "metadata": {},
   "outputs": [],
   "source": [
    "# Implementation : Fibonacci series - Dynamic programming - Optimized for space\n",
    "def fibonacci_dp(n):\n",
    "    # Input\n",
    "    # n : the position of the fibonacci series element to be printed\n",
    "    # Output\n",
    "    # print the nth number in fibonacci series\n",
    "    \n",
    "    # Initializing the first two elements, but we don't need a list\n",
    "    last = 0\n",
    "    second_last = 1\n",
    "    if n == 0:\n",
    "        return last\n",
    "    if n == 1:\n",
    "        return second_last\n",
    "    \n",
    "    for i in range(2, n+1):\n",
    "        current  = second_last + last\n",
    "        last = second_last\n",
    "        second_last = current\n",
    "    return current"
   ]
  },
  {
   "cell_type": "code",
   "execution_count": 21,
   "metadata": {},
   "outputs": [
    {
     "name": "stdout",
     "output_type": "stream",
     "text": [
      "0\n",
      "1\n",
      "1\n",
      "2\n",
      "3\n",
      "5\n",
      "8\n",
      "13\n",
      "21\n",
      "34\n"
     ]
    }
   ],
   "source": [
    "for i in range(10):\n",
    "    print(fibonacci_dp(i))"
   ]
  },
  {
   "cell_type": "code",
   "execution_count": null,
   "metadata": {},
   "outputs": [],
   "source": [
    "# Awesome"
   ]
  },
  {
   "cell_type": "markdown",
   "metadata": {},
   "source": [
    "## Top-down (Memoization)"
   ]
  },
  {
   "cell_type": "markdown",
   "metadata": {},
   "source": [
    "> In top-down approach we are gonna split the problems into subproblems and keep on dividing it into subproblems until we reach the base case. Merge the solution to reach the solution"
   ]
  },
  {
   "cell_type": "code",
   "execution_count": 46,
   "metadata": {},
   "outputs": [],
   "source": [
    "# Implementation\n",
    "\n",
    "# We are gonna need a variable outside the function\n",
    "memo = {}\n",
    "\n",
    "def fib_memo(n):\n",
    "    # Input\n",
    "    # n : the position of the fibonacci series element to be printed\n",
    "    # Output\n",
    "    # print the nth number in fibonacci series\n",
    "    \n",
    "    # base case 0\n",
    "    if n == 0:\n",
    "        return 0\n",
    "    # base case 1\n",
    "    if n == 1:\n",
    "        return 1\n",
    "    if n in memo:\n",
    "        print(\"{} in memo\".format(n))\n",
    "        return memo[n]\n",
    "    else:\n",
    "        memo[n] = fib_memo(n-1) + fib_memo(n-2)\n",
    "        return memo[n]"
   ]
  },
  {
   "cell_type": "code",
   "execution_count": 49,
   "metadata": {},
   "outputs": [
    {
     "name": "stdout",
     "output_type": "stream",
     "text": [
      "0\n",
      "1\n",
      "1\n",
      "2 in memo\n",
      "2\n",
      "3 in memo\n",
      "2 in memo\n",
      "3\n",
      "4 in memo\n",
      "3 in memo\n",
      "5\n",
      "5 in memo\n",
      "4 in memo\n",
      "8\n",
      "6 in memo\n",
      "5 in memo\n",
      "13\n",
      "7 in memo\n",
      "6 in memo\n",
      "21\n",
      "8 in memo\n",
      "7 in memo\n",
      "34\n"
     ]
    }
   ],
   "source": [
    "for i in range(10):\n",
    "    print(fib_memo(i))"
   ]
  },
  {
   "cell_type": "code",
   "execution_count": 50,
   "metadata": {},
   "outputs": [
    {
     "data": {
      "text/plain": [
       "{2: 1, 3: 2, 4: 3, 5: 5, 6: 8, 7: 13, 8: 21, 9: 34}"
      ]
     },
     "execution_count": 50,
     "metadata": {},
     "output_type": "execute_result"
    }
   ],
   "source": [
    "memo"
   ]
  },
  {
   "cell_type": "code",
   "execution_count": 51,
   "metadata": {},
   "outputs": [],
   "source": [
    "# The cool thing about memoization is you can always look up a value which has already been calculated and never \n",
    "# calculate again. If you have that kinda space. For memoization we mostly use dict cause accessing dict element is \n",
    "# almost O(1), sooper fast."
   ]
  },
  {
   "cell_type": "code",
   "execution_count": 52,
   "metadata": {},
   "outputs": [
    {
     "data": {
      "text/plain": [
       "34"
      ]
     },
     "execution_count": 52,
     "metadata": {},
     "output_type": "execute_result"
    }
   ],
   "source": [
    "memo[9]"
   ]
  },
  {
   "cell_type": "code",
   "execution_count": 53,
   "metadata": {},
   "outputs": [
    {
     "data": {
      "text/plain": [
       "Ellipsis"
      ]
     },
     "execution_count": 53,
     "metadata": {},
     "output_type": "execute_result"
    }
   ],
   "source": [
    "..."
   ]
  },
  {
   "cell_type": "code",
   "execution_count": null,
   "metadata": {},
   "outputs": [],
   "source": []
  }
 ],
 "metadata": {
  "kernelspec": {
   "display_name": "Python 3",
   "language": "python",
   "name": "python3"
  },
  "language_info": {
   "codemirror_mode": {
    "name": "ipython",
    "version": 3
   },
   "file_extension": ".py",
   "mimetype": "text/x-python",
   "name": "python",
   "nbconvert_exporter": "python",
   "pygments_lexer": "ipython3",
   "version": "3.8.3"
  }
 },
 "nbformat": 4,
 "nbformat_minor": 4
}
